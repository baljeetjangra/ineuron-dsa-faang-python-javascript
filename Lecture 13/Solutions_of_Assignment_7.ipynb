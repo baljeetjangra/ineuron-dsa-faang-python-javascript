{
  "nbformat": 4,
  "nbformat_minor": 0,
  "metadata": {
    "colab": {
      "provenance": []
    },
    "kernelspec": {
      "name": "python3",
      "display_name": "Python 3"
    },
    "language_info": {
      "name": "python"
    }
  },
  "cells": [
    {
      "cell_type": "markdown",
      "source": [
        "**Solution 1: Finding of 3Sum Closest [Leetcode](https://leetcode.com/problems/3sum-closest/)**"
      ],
      "metadata": {
        "id": "hYDvhdfWeYjk"
      }
    },
    {
      "cell_type": "code",
      "execution_count": 7,
      "metadata": {
        "colab": {
          "base_uri": "https://localhost:8080/"
        },
        "id": "bTipda_Jb6e7",
        "outputId": "ee9e6237-7a81-46d8-bcee-d0781605653e"
      },
      "outputs": [
        {
          "output_type": "stream",
          "name": "stdout",
          "text": [
            "4\n"
          ]
        }
      ],
      "source": [
        "def Closest(arr, x) :\n",
        "\n",
        "    #Assuming the difference between elements in list are not larger then target*1000000 \n",
        "    Closest_Sum = abs(x*1000000);\n",
        "    arr.sort();\n",
        " \n",
        "    # arr[i] will move till len(arr)-2\n",
        "    #because arr[right] already exists on len(arr) - 1\n",
        "    for i in range(len(arr)-2) :\n",
        " \n",
        "        left = i + 1\n",
        "        right = len(arr) - 1\n",
        "       \n",
        "        while  left < right :\n",
        " \n",
        "            # If the sum is more closer than\n",
        "            # the current closest sum\n",
        "            sumVal = arr[i] + arr[left] + arr[right]\n",
        "            if (abs(x - sumVal) < abs(x - Closest_Sum)) :\n",
        "                Closest_Sum = sumVal;\n",
        "            \n",
        "            elif sumVal > x:\n",
        "              right -= 1;\n",
        "                \n",
        "            else :\n",
        "                left += 1;\n",
        " \n",
        "    return Closest_Sum;\n",
        " \n",
        " \n",
        "# Driver code\n",
        "arr = [-1, 2, 3, -4];\n",
        "target= 5;\n",
        "print(Closest(arr,target));"
      ]
    },
    {
      "cell_type": "markdown",
      "source": [
        "**Solution 2: Checking of whether the points are collinear or not**"
      ],
      "metadata": {
        "id": "4kUy7LhveSTB"
      }
    },
    {
      "cell_type": "markdown",
      "source": [
        "**Approach 1: If m1 == m2, then the points are collinear, otherwise the points are non-collinear**"
      ],
      "metadata": {
        "id": "SrCIhz2HDbIy"
      }
    },
    {
      "cell_type": "code",
      "source": [
        "def collinear_points(x1, y1, x2, y2, x3, y3):\n",
        "    \n",
        "    if ((y3 - y2)*(x2 - x1) == (y2 - y1)*(x3 - x2)):\n",
        "        print (\"Yes\")\n",
        "    else:\n",
        "        print (\"No\")\n",
        "  \n",
        "# Driver Code\n",
        "x1, x2, x3, y1, y2, y3 = 1, 1, 1, 6, 0, 9\n",
        "collinear_points(x1, y1, x2, y2, x3, y3);"
      ],
      "metadata": {
        "colab": {
          "base_uri": "https://localhost:8080/"
        },
        "id": "2Otw5qUIcCdY",
        "outputId": "55cc9f47-42ca-455d-bf35-46f7b9b4c9c3"
      },
      "execution_count": 1,
      "outputs": [
        {
          "output_type": "stream",
          "name": "stdout",
          "text": [
            "Yes\n"
          ]
        }
      ]
    },
    {
      "cell_type": "markdown",
      "source": [
        "**Approach 2: Area of the traingle and if area == 0, then the points are collinear, otherwise the points are non collinear**"
      ],
      "metadata": {
        "id": "GVuf6EwaDoSo"
      }
    },
    {
      "cell_type": "code",
      "source": [
        "def collinear_points(x1, y1, x2, y2, x3, y3):\n",
        "    \n",
        "    area = 0.5 * (x1 * (y2 - y3) + x2 * (y3 - y1) + x3 * (y1 - y2))\n",
        "    if (area == 0):\n",
        "        print (\"Yes\")\n",
        "    else:\n",
        "        print (\"No\")\n",
        "  \n",
        "# Driver Code\n",
        "x1, x2, x3, y1, y2, y3 = 1, 2, 3, 6, 0, 9\n",
        "collinear_points(x1, y1, x2, y2, x3, y3);"
      ],
      "metadata": {
        "colab": {
          "base_uri": "https://localhost:8080/"
        },
        "id": "ipoiO9yrDyWW",
        "outputId": "02fd2cb8-073d-4f1a-fee2-3b06dedb59ec"
      },
      "execution_count": 3,
      "outputs": [
        {
          "output_type": "stream",
          "name": "stdout",
          "text": [
            "No\n"
          ]
        }
      ]
    },
    {
      "cell_type": "markdown",
      "source": [
        "**Solution 3: Featured Product**"
      ],
      "metadata": {
        "id": "-Yeo1P5ifk0c"
      }
    },
    {
      "cell_type": "code",
      "source": [
        "from collections import Counter\n",
        "products = ['yellowShirt', 'redHat', 'blackShirt', 'bluePants', 'redHat','pinkHat', 'blackShirt', 'yellowShirt']\n",
        "products.sort()\n",
        "print(products)\n",
        "## Dictionary\n",
        "products_count = dict(Counter(products))\n",
        "print(products_count)\n",
        "\n",
        "max=0\n",
        "rqd_product=[]\n",
        "for i in products_count:\n",
        "    if max < products_count[i]:\n",
        "        max=products_count[i]\n",
        "for key, value in products_count.items():\n",
        "    if max == value:\n",
        "        rqd_product.append(key)\n",
        "print(rqd_product[-1])"
      ],
      "metadata": {
        "colab": {
          "base_uri": "https://localhost:8080/"
        },
        "id": "Rj3ut-_RfkTR",
        "outputId": "962a7ef5-34f6-4fd2-ded4-efb8430b3c3a"
      },
      "execution_count": 5,
      "outputs": [
        {
          "output_type": "stream",
          "name": "stdout",
          "text": [
            "['blackShirt', 'blackShirt', 'bluePants', 'pinkHat', 'redHat', 'redHat', 'yellowShirt', 'yellowShirt']\n",
            "{'blackShirt': 2, 'bluePants': 1, 'pinkHat': 1, 'redHat': 2, 'yellowShirt': 2}\n",
            "yellowShirt\n"
          ]
        }
      ]
    },
    {
      "cell_type": "markdown",
      "source": [
        "**Solution 4: Insertion Sort -> Refer the sorting live session for the reason understanding**"
      ],
      "metadata": {
        "id": "MQgHY0I3eJ1X"
      }
    }
  ]
}