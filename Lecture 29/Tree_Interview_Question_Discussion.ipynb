{
  "nbformat": 4,
  "nbformat_minor": 0,
  "metadata": {
    "colab": {
      "provenance": []
    },
    "kernelspec": {
      "name": "python3",
      "display_name": "Python 3"
    },
    "language_info": {
      "name": "python"
    }
  },
  "cells": [
    {
      "cell_type": "markdown",
      "source": [
        "Iterative Approach Of Inorder Traversal"
      ],
      "metadata": {
        "id": "YuflfKm5ckW0"
      }
    },
    {
      "cell_type": "code",
      "source": [
        "class Node:\n",
        "    def __init__(self,data):\n",
        "        self.left = None\n",
        "        self.right = None\n",
        "        self.data = data\n",
        "\n",
        "# Iterative approach of inorder traversal\n",
        "def inOrder(root):\n",
        "    # setting current is root of tree\n",
        "    current = root\n",
        "    # initializing empty stack\n",
        "    stack = []\n",
        "    \n",
        "    while True:\n",
        "        # Traverse till left most node of the current node\n",
        "        if current is not None:\n",
        "            stack.append(current)\n",
        "            current = current.left\n",
        "\n",
        "        # Backtracking from the empty subtree and visiting node again which is topmost of the stack\n",
        "        elif len(stack)>0:\n",
        "            current = stack.pop()\n",
        "            print(str(current.data)+\" \",end=' ')\n",
        "\n",
        "\n",
        "            # now traversing the right subtree\n",
        "            current = current.right\n",
        "        else:\n",
        "            break\n",
        "\n",
        "# Driver code\n",
        "myroot = Node(10)\n",
        "myroot.left = Node(20)\n",
        "myroot.right = Node(30)\n",
        "myroot.left.left = Node(40)\n",
        "myroot.left.right = Node(50)\n",
        "myroot.right.left = Node(60)\n",
        "myroot.right.right = Node(70)\n",
        "\n",
        "\n",
        "\n",
        "print(\"InOrder Traversal of the node:\")\n",
        "inOrder(myroot) # 40 20 50 10 60 30 70\n",
        "print()"
      ],
      "metadata": {
        "colab": {
          "base_uri": "https://localhost:8080/"
        },
        "id": "H23nYvXGFW6g",
        "outputId": "d21731ea-4ee9-4b54-9da4-f19bc627bc80"
      },
      "execution_count": null,
      "outputs": [
        {
          "output_type": "stream",
          "name": "stdout",
          "text": [
            "InOrder Traversal of the node:\n",
            "40  20  50  10  60  30  70  \n"
          ]
        }
      ]
    },
    {
      "cell_type": "markdown",
      "source": [
        "Iterative approach of Preorder Traversal"
      ],
      "metadata": {
        "id": "MopY4bEPcqIM"
      }
    },
    {
      "cell_type": "code",
      "source": [
        "class Node:\n",
        "    def __init__(self,data):\n",
        "        self.left = None\n",
        "        self.right = None\n",
        "        self.data = data\n",
        "\n",
        "# Iterative approach of preorder traversal\n",
        "def preOrder(root):\n",
        "\n",
        "    # defining base case\n",
        "    if root is None:\n",
        "        return\n",
        "    \n",
        "    # creating an stack to push nodes\n",
        "    nodeStack = []\n",
        "    # pushing root first\n",
        "    nodeStack.append(root)\n",
        "\n",
        "    # iteration till stack is not empty\n",
        "    while len(nodeStack)>0:\n",
        "        # popping the topmost node from stack and print its value\n",
        "        popped = nodeStack.pop()\n",
        "        print(str(popped.data)+\" \",end=' ')\n",
        "\n",
        "        # pushing left and right children of popped node into stack\n",
        "\n",
        "        # pushing right children first into stack because left children should print first while popping for top\n",
        "\n",
        "        if popped.right is not None:\n",
        "            nodeStack.append(popped.right)\n",
        "\n",
        "        # after pushing right child , push left child node\n",
        "        if popped.left is not None:\n",
        "            nodeStack.append(popped.left)\n",
        "\n",
        "print('Preorder Traversal of the node:')\n",
        "preOrder(myroot)  # 10 20 40 50 30 60 70\n",
        "print()"
      ],
      "metadata": {
        "colab": {
          "base_uri": "https://localhost:8080/"
        },
        "id": "nOA3Voy9a1Zf",
        "outputId": "135b586a-1518-4c59-e4e9-2c5523c23df1"
      },
      "execution_count": null,
      "outputs": [
        {
          "output_type": "stream",
          "name": "stdout",
          "text": [
            "Preorder Traversal of the node:\n",
            "10  20  40  50  30  60  70  \n"
          ]
        }
      ]
    },
    {
      "cell_type": "markdown",
      "source": [
        "Iterative Approach for PostOrder Traversal"
      ],
      "metadata": {
        "id": "YlMo_s3dcvh-"
      }
    },
    {
      "cell_type": "code",
      "source": [
        "# Iterative approach of postorder traversal\n",
        "def postOrder(root):\n",
        "        current = root\n",
        "        stack = []\n",
        "        new_stack = []\n",
        "        stack.append(current)\n",
        "        while stack: \n",
        "            current = stack.pop() \n",
        "            new_stack.append(current.data)\n",
        "            if current.left:\n",
        "                stack.append(current.left)\n",
        "            if current.right:\n",
        "                stack.append(current.right)\n",
        "        \n",
        "        while new_stack:\n",
        "            i = new_stack.pop()\n",
        "            print(i,end =\" \")\n",
        "\n",
        "print('PostOrder Traversal of the node:')\n",
        "postOrder(myroot)  # 10 20 40 50 30 60 70\n",
        "print()"
      ],
      "metadata": {
        "colab": {
          "base_uri": "https://localhost:8080/"
        },
        "id": "EYlhTO-ebCt1",
        "outputId": "962a1f87-8c54-48db-ad4e-67da764a9392"
      },
      "execution_count": null,
      "outputs": [
        {
          "output_type": "stream",
          "name": "stdout",
          "text": [
            "PostOrder Traversal of the node:\n",
            "40 50 20 60 70 30 10 \n"
          ]
        }
      ]
    }
  ]
}