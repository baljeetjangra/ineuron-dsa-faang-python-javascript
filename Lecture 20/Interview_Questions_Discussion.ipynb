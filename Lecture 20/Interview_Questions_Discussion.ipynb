{
  "nbformat": 4,
  "nbformat_minor": 0,
  "metadata": {
    "colab": {
      "provenance": []
    },
    "kernelspec": {
      "name": "python3",
      "display_name": "Python 3"
    },
    "language_info": {
      "name": "python"
    }
  },
  "cells": [
    {
      "cell_type": "markdown",
      "source": [
        "[Divide two numbers without using division, multiplication and modulo operator](https://leetcode.com/problems/divide-two-integers/)"
      ],
      "metadata": {
        "id": "1eOwO_ujTTIr"
      }
    },
    {
      "cell_type": "code",
      "source": [
        "## Method definition\n",
        "def divide(dividend, divisor):\n",
        "  divid = abs(dividend)\n",
        "  div = abs(divisor)\n",
        "  result = 0\n",
        "        \n",
        "  while divid >= div:\n",
        "    shift = 0\n",
        "  ## left shift operator\n",
        "    while divid >= (div << shift):\n",
        "      shift += 1\n",
        "            \n",
        "      result += (1 << (shift - 1))\n",
        "      divid -= div << (shift - 1)\n",
        "            \n",
        "  ## negative case handling\n",
        "      if (dividend < 0 and divisor >= 0) or (divisor < 0 and dividend >= 0):\n",
        "        result = -result\n",
        "        \n",
        "  return min(2147483647, max(-2147483648, result))\n",
        "\n",
        "## Driver code\n",
        "dividend = 47\n",
        "divisor = 4\n",
        "result = divide(dividend, divisor)\n",
        "print(result)"
      ],
      "metadata": {
        "colab": {
          "base_uri": "https://localhost:8080/"
        },
        "id": "CjX2KRhyHgM6",
        "outputId": "9cb47884-e08d-46aa-f737-14eb8043f1cd"
      },
      "execution_count": 1,
      "outputs": [
        {
          "output_type": "stream",
          "name": "stdout",
          "text": [
            "11\n"
          ]
        }
      ]
    },
    {
      "cell_type": "markdown",
      "source": [
        "**Reversal of Singly Linked List**"
      ],
      "metadata": {
        "id": "gv4XlN_yYlAm"
      }
    },
    {
      "cell_type": "code",
      "source": [
        "class Node:\n",
        "  def __init__(self, data):\n",
        "    self.data = data\n",
        "    self.nextPtr = None\n",
        "\n",
        "class LinkedList:\n",
        "  def __init__(self):\n",
        "    self.head = None\n",
        "\n",
        "  ## insert the new node at the end of the linked list\n",
        "  def insertAtEnd(self, new_data):\n",
        "    ## create a new node for the new data\n",
        "    new_node = Node(new_data)\n",
        "\n",
        "    ## check whether linked list is empty or different\n",
        "    if self.head is None:\n",
        "      self.head = new_node\n",
        "      return\n",
        "    \n",
        "    ## insert the data at the end\n",
        "    temp = self.head\n",
        "    while temp.nextPtr:\n",
        "      temp = temp.nextPtr\n",
        "    \n",
        "    temp.nextPtr = new_node\n",
        "\n",
        "  ## to reverse the singly linked list\n",
        "  def reverseList(self):\n",
        "    prev = None\n",
        "    next = None\n",
        "    curr = self.head\n",
        "\n",
        "    while curr:\n",
        "      next = curr.nextPtr\n",
        "      curr.nextPtr = prev\n",
        "      prev = curr\n",
        "      curr = next\n",
        "    \n",
        "    ## update the head pointer\n",
        "    self.head = prev\n",
        "\n",
        "  ## print the linked list\n",
        "  def printLinkedList(self):\n",
        "    temp = self.head\n",
        "    while temp:\n",
        "      print(str(temp.data)+\" \", end=\" \")\n",
        "      temp = temp.nextPtr\n",
        "  \n",
        "## Driver code\n",
        "llist = LinkedList()\n",
        "\n",
        "\n",
        "llist.insertAtEnd(10)\n",
        "llist.insertAtEnd(20)\n",
        "llist.insertAtEnd(30)\n",
        "llist.insertAtEnd(40)\n",
        "llist.insertAtEnd(50)\n",
        "llist.insertAtEnd(150)\n",
        "llist.insertAtEnd(250)\n",
        "print(\"Insertion of nodes at the end of the Linked List:\")\n",
        "llist.printLinkedList()\n",
        "print()\n",
        "\n",
        "llist.reverseList()\n",
        "print(\"Reversal of linked list:\")\n",
        "llist.printLinkedList()\n",
        "print()"
      ],
      "metadata": {
        "colab": {
          "base_uri": "https://localhost:8080/"
        },
        "id": "itOpAfuRTQDZ",
        "outputId": "3cec3277-b6c5-4dba-9ae1-12604f1aebe4"
      },
      "execution_count": 3,
      "outputs": [
        {
          "output_type": "stream",
          "name": "stdout",
          "text": [
            "Insertion of nodes at the end of the Linked List:\n",
            "10  20  30  40  50  150  250  \n",
            "Reversal of linked list:\n",
            "250  150  50  40  30  20  10  \n"
          ]
        }
      ]
    },
    {
      "cell_type": "code",
      "source": [
        "class Node:\n",
        "  def __init__(self, data):\n",
        "    self.data = data\n",
        "    self.nextPtr = None\n",
        "\n",
        "class LinkedList:\n",
        "  def __init__(self):\n",
        "    self.head = None\n",
        "\n",
        "  ## insert the new node at the end of the linked list\n",
        "  def insertAtEnd(self, new_data):\n",
        "    ## create a new node for the new data\n",
        "    new_node = Node(new_data)\n",
        "\n",
        "    ## check whether linked list is empty or different\n",
        "    if self.head is None:\n",
        "      self.head = new_node\n",
        "      return\n",
        "    \n",
        "    ## insert the data at the end\n",
        "    temp = self.head\n",
        "    while temp.nextPtr:\n",
        "      temp = temp.nextPtr\n",
        "    \n",
        "    temp.nextPtr = new_node\n",
        "  \n",
        "  ## to detect the loop inside the linked list\n",
        "  def detectLoop(self):\n",
        "    hare = self.head\n",
        "    tortoise = self.head\n",
        "\n",
        "    while tortoise and hare and hare.nextPtr:\n",
        "      hare = hare.nextPtr.nextPtr\n",
        "      tortoise = tortoise.nextPtr\n",
        "\n",
        "      if tortoise == hare:\n",
        "        return True\n",
        "    return False\n",
        "\n",
        "  ## print the linked list\n",
        "  def printLinkedList(self):\n",
        "    temp = self.head\n",
        "    while temp:\n",
        "      print(str(temp.data)+\" \", end=\" \")\n",
        "      temp = temp.nextPtr\n",
        "  \n",
        "## Driver code\n",
        "llist = LinkedList()\n",
        "\n",
        "\n",
        "llist.insertAtEnd(10)\n",
        "llist.insertAtEnd(20)\n",
        "llist.insertAtEnd(30)\n",
        "llist.insertAtEnd(40)\n",
        "\n",
        "## make a loop inside the linked list\n",
        "llist.head.nextPtr.nextPtr.nextPtr = llist.head\n",
        "\n",
        "if llist.detectLoop():\n",
        "  print(\"Loop is inside the Linked List\")\n",
        "else:\n",
        "  print(\"No Loop\")"
      ],
      "metadata": {
        "colab": {
          "base_uri": "https://localhost:8080/"
        },
        "id": "0bA2WZbgYV2o",
        "outputId": "7e9109f1-65d6-41d2-b194-14baf81be645"
      },
      "execution_count": 8,
      "outputs": [
        {
          "output_type": "stream",
          "name": "stdout",
          "text": [
            "Loop is inside the Linked List\n"
          ]
        }
      ]
    },
    {
      "cell_type": "code",
      "source": [],
      "metadata": {
        "id": "3R_7JJJBbGCu"
      },
      "execution_count": null,
      "outputs": []
    }
  ]
}