{
 "cells": [
  {
   "cell_type": "code",
   "execution_count": 1,
   "id": "00f04555",
   "metadata": {},
   "outputs": [
    {
     "name": "stdout",
     "output_type": "stream",
     "text": [
      "Maximum and Minimum value in the array is 92 20\n"
     ]
    }
   ],
   "source": [
    "## Recurrence Relation : T(n) = 2T(n/2) + c\n",
    "## Using master's theorem: T(n) = O(n)\n",
    "## Method Definition of MaxandMin function\n",
    "def findMaxandMin(arr, i, j):\n",
    "    ## small problem - c\n",
    "    ## single element condition\n",
    "    if i == j:\n",
    "        max_val = arr[i]\n",
    "        min_val = arr[i]\n",
    "    ## two element condition\n",
    "    elif i == j - 1:\n",
    "        if arr[i] < arr[j]:\n",
    "            max_val = arr[j]\n",
    "            min_val = arr[i]\n",
    "        else:\n",
    "            max_val = arr[i]\n",
    "            min_val = arr[j]\n",
    "    ## big problem -> n > 2\n",
    "    else:\n",
    "        ## Divide and Conquer approach\n",
    "        ## 1. Divide - c\n",
    "        mid = i + (j-i)//2\n",
    "        ## 2.Recursion -> Conquer - 2T(n/2)\n",
    "        max_1, min_1 = findMaxandMin(arr, i, mid)\n",
    "        max_2, min_2 = findMaxandMin(arr, mid+1, j)\n",
    "        ## 3. Combine\n",
    "        ## To find the final maxima - c\n",
    "        if max_1 < max_2:\n",
    "            max_val = max_2\n",
    "        else:\n",
    "            max_val = max_1\n",
    "        ## To find the final minima\n",
    "        if min_1 < min_2:\n",
    "            min_val = min_1\n",
    "        else:\n",
    "            min_val = min_2\n",
    "    return max_val, min_val\n",
    "\n",
    "## Driver code\n",
    "arr = [20, 39, 45, 65, 21, 44, 89, 92]\n",
    "## i indicates the starting index\n",
    "i = 0\n",
    "## j indicates the ending index\n",
    "j = len(arr) - 1\n",
    "## function calling\n",
    "max_val, min_val = findMaxandMin(arr, i, j)\n",
    "print('Maximum and Minimum value in the array is', max_val, min_val)"
   ]
  },
  {
   "cell_type": "code",
   "execution_count": null,
   "id": "acdf90f4",
   "metadata": {},
   "outputs": [],
   "source": []
  }
 ],
 "metadata": {
  "kernelspec": {
   "display_name": "Python 3 (ipykernel)",
   "language": "python",
   "name": "python3"
  },
  "language_info": {
   "codemirror_mode": {
    "name": "ipython",
    "version": 3
   },
   "file_extension": ".py",
   "mimetype": "text/x-python",
   "name": "python",
   "nbconvert_exporter": "python",
   "pygments_lexer": "ipython3",
   "version": "3.9.12"
  }
 },
 "nbformat": 4,
 "nbformat_minor": 5
}
