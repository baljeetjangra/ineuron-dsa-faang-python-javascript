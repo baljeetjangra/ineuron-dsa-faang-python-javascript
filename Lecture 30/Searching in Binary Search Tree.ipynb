{
 "cells": [
  {
   "cell_type": "code",
   "execution_count": 19,
   "id": "6e7bf6b9",
   "metadata": {},
   "outputs": [
    {
     "name": "stdout",
     "output_type": "stream",
     "text": [
      "Inorder Traversal\n",
      "20  50  80  90  100  110  \n",
      "Data is not present in BST\n"
     ]
    }
   ],
   "source": [
    "## class of nodes in a BST\n",
    "## Time complexity for the insertion:\n",
    "## Time complexity for the inOrder Traversal: O(n)\n",
    "## Time complexity for the minimum value finding in BST:\n",
    "class Node:\n",
    "    def __init__(self, data):\n",
    "        self.left = None\n",
    "        self.right = None\n",
    "        self.data = data\n",
    "\n",
    "## insertion in BST\n",
    "def insertBST(root, key):\n",
    "    if root is None:\n",
    "        return Node(key)\n",
    "    else:\n",
    "        if root.data == key:\n",
    "            return root\n",
    "        elif root.data < key:\n",
    "            root.right = insertBST(root.right, key)\n",
    "        else:\n",
    "            root.left = insertBST(root.left, key)\n",
    "    return root\n",
    "\n",
    "\n",
    "## inorder traversal of BST\n",
    "def inOrder(root):\n",
    "    if root:\n",
    "        ## recursive call for left subtree\n",
    "        inOrder(root.left)\n",
    "        print(str(root.data)+\" \", end=' ')\n",
    "        ## recursive call for right subtree\n",
    "        inOrder(root.right)\n",
    "\n",
    "## search the node in BST\n",
    "## Balanced BST: O(logn)\n",
    "## Unbalanced BST: O(n) -> Skewed Dataaaaaa\n",
    "def searchBST(root, key):\n",
    "    if root is None or root.data == key:\n",
    "        return root\n",
    "    elif key < root.data:\n",
    "        ## recursion towards left side of the tree\n",
    "        return searchBST(root.left, key)\n",
    "    else:\n",
    "        ## recursion towards right side of the tree\n",
    "        return searchBST(root.right, key)\n",
    "\n",
    "## Driver method\n",
    "root = Node(100)\n",
    "root = insertBST(root, 80)\n",
    "root = insertBST(root, 110)\n",
    "root = insertBST(root, 50)\n",
    "root = insertBST(root, 20)\n",
    "root = insertBST(root, 90)\n",
    "\n",
    "print(\"Inorder Traversal\")\n",
    "inOrder(root)\n",
    "\n",
    "key = 120\n",
    "result = searchBST(root, key)\n",
    "print()\n",
    "if result:\n",
    "    print(\"Data is present in BST\")\n",
    "else:\n",
    "    print(\"Data is not present in BST\")"
   ]
  },
  {
   "cell_type": "code",
   "execution_count": null,
   "id": "f2fe8250",
   "metadata": {},
   "outputs": [],
   "source": []
  }
 ],
 "metadata": {
  "kernelspec": {
   "display_name": "Python 3 (ipykernel)",
   "language": "python",
   "name": "python3"
  },
  "language_info": {
   "codemirror_mode": {
    "name": "ipython",
    "version": 3
   },
   "file_extension": ".py",
   "mimetype": "text/x-python",
   "name": "python",
   "nbconvert_exporter": "python",
   "pygments_lexer": "ipython3",
   "version": "3.9.12"
  }
 },
 "nbformat": 4,
 "nbformat_minor": 5
}
