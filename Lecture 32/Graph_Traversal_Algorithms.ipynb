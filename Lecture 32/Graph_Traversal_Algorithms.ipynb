{
  "nbformat": 4,
  "nbformat_minor": 0,
  "metadata": {
    "colab": {
      "provenance": []
    },
    "kernelspec": {
      "name": "python3",
      "display_name": "Python 3"
    },
    "language_info": {
      "name": "python"
    }
  },
  "cells": [
    {
      "cell_type": "markdown",
      "source": [
        "**Depth First Traversal**"
      ],
      "metadata": {
        "id": "3Wc3VW67wtZs"
      }
    },
    {
      "cell_type": "code",
      "execution_count": null,
      "metadata": {
        "colab": {
          "base_uri": "https://localhost:8080/"
        },
        "id": "7nBE-46iwoXD",
        "outputId": "cd22b27e-a1a5-44a0-9252-105221d3fc7c"
      },
      "outputs": [
        {
          "output_type": "stream",
          "name": "stdout",
          "text": [
            "5 3 2 4 8 7 "
          ]
        }
      ],
      "source": [
        "## Method Definition for depth first traversal\n",
        "def depth_first_traversal(visited, graph, node):\n",
        "  if node not in visited:\n",
        "    print(node, end = \" \")             \n",
        "    visited.add(node)\n",
        "    for adjacent_node in graph[node]:\n",
        "      ## recursion call \n",
        "      depth_first_traversal(visited, graph, adjacent_node)\n",
        "\n",
        "## visited set to keep track of all the visited nodes\n",
        "visited = set()\n",
        "\n",
        "## driver code\n",
        "graph = {\n",
        "    '5' : ['3','7'],\n",
        "    '3' : ['2', '4'],\n",
        "    '7' : ['8'],\n",
        "    '2' : [],\n",
        "    '4' : ['8'],\n",
        "    '8' : []\n",
        "}\n",
        "\n",
        "depth_first_traversal(visited, graph, '5')"
      ]
    },
    {
      "cell_type": "markdown",
      "source": [
        "**Breadth First Traversal**"
      ],
      "metadata": {
        "id": "F7doadNd3OVa"
      }
    },
    {
      "cell_type": "code",
      "source": [
        "from collections import deque\n",
        "queue = deque()\n",
        "\n",
        "def breadth_first_traversal(visited, graph, node):\n",
        "  visited.add(node)\n",
        "  queue.appendleft(node)\n",
        "  \n",
        "  while queue:\n",
        "    node = queue.pop()\n",
        "    print(node, end = \" \")\n",
        "\n",
        "    for adjacent_node in graph[node]:\n",
        "      if adjacent_node not in visited:\n",
        "        visited.add(adjacent_node)\n",
        "        queue.appendleft(adjacent_node)\n",
        "\n",
        "## visited set to keep track of all the visited nodes\n",
        "visited = set()\n",
        "\n",
        "## driver code\n",
        "graph = {\n",
        "    'A' : ['B', 'C', 'D'],\n",
        "    'B' : ['E'],\n",
        "    'C' : ['E', 'F'],\n",
        "    'D' : ['F'],\n",
        "    'E' : ['G'],\n",
        "    'F' : ['G'],\n",
        "    'G' : []\n",
        "}\n",
        "\n",
        "breadth_first_traversal(visited, graph, 'A')"
      ],
      "metadata": {
        "colab": {
          "base_uri": "https://localhost:8080/"
        },
        "id": "FIgx3FYBXgZi",
        "outputId": "fdc267f3-dded-484e-a0a7-94ed8a8cfbe1"
      },
      "execution_count": null,
      "outputs": [
        {
          "output_type": "stream",
          "name": "stdout",
          "text": [
            "A B C D E F G "
          ]
        }
      ]
    },
    {
      "cell_type": "code",
      "source": [
        "  "
      ],
      "metadata": {
        "id": "oU7S0_Psj1_o"
      },
      "execution_count": null,
      "outputs": []
    }
  ]
}