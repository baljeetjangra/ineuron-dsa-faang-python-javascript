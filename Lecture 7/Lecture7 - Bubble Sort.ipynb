{
 "cells": [
  {
   "cell_type": "code",
   "execution_count": 1,
   "id": "e43aba5c",
   "metadata": {},
   "outputs": [
    {
     "name": "stdout",
     "output_type": "stream",
     "text": [
      "Array after using bubble sort is: [20, 35, 47, 50, 60, 70]\n"
     ]
    }
   ],
   "source": [
    "## Implementation of Bubble Sort\n",
    "## Time complexity: O(n^2)\n",
    "## Method implementation\n",
    "def bubbleSort(arr):\n",
    "    n = len(arr)\n",
    "    for i in range(n):\n",
    "        for j in range(0, n-i-1):\n",
    "            if arr[j] > arr[j+1]:\n",
    "                ## swap of the elements\n",
    "                arr[j], arr[j+1] = arr[j+1], arr[j]\n",
    "    return arr\n",
    "\n",
    "## Driver code\n",
    "arr = [70, 20, 50, 60, 35, 47]\n",
    "result = bubbleSort(arr)\n",
    "print(\"Array after using bubble sort is:\", result)"
   ]
  },
  {
   "cell_type": "code",
   "execution_count": null,
   "id": "0b1e3d42",
   "metadata": {},
   "outputs": [],
   "source": [
    "last element function bubbleSort(array) {\n",
    "  let count = 0;\n",
    "  for (let i = 0; i < array.length; i++) {\n",
    "    for (let j = 0; j < array.length - i - 1; j++) {\n",
    "      if (array[j + 1] < array[j]) {\n",
    "        count = count + 1;\n",
    "        [array[j + 1], array[j]] = [array[j], array[j + 1]];\n",
    "      }\n",
    "    }\n",
    "  }\n",
    "  console.log('count ===> ', count);\n",
    "  return array;\n",
    "}"
   ]
  }
 ],
 "metadata": {
  "kernelspec": {
   "display_name": "Python 3 (ipykernel)",
   "language": "python",
   "name": "python3"
  },
  "language_info": {
   "codemirror_mode": {
    "name": "ipython",
    "version": 3
   },
   "file_extension": ".py",
   "mimetype": "text/x-python",
   "name": "python",
   "nbconvert_exporter": "python",
   "pygments_lexer": "ipython3",
   "version": "3.9.12"
  }
 },
 "nbformat": 4,
 "nbformat_minor": 5
}
