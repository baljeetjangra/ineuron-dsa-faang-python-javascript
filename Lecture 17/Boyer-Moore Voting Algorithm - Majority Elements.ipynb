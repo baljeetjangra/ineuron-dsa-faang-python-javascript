{
 "cells": [
  {
   "cell_type": "code",
   "execution_count": 6,
   "id": "0d7eaebc",
   "metadata": {},
   "outputs": [
    {
     "name": "stdout",
     "output_type": "stream",
     "text": [
      "Majority element is: 3\n"
     ]
    }
   ],
   "source": [
    "## TC - O(n)\n",
    "## SC - O(1)\n",
    "## Method definition of findCandidate\n",
    "def findCandidate(nums):\n",
    "    candidate = None\n",
    "    count = 0\n",
    "    for num in nums:\n",
    "        if count == 0:\n",
    "            candidate = num\n",
    "        count += (1 if num == candidate else -1)\n",
    "    return candidate\n",
    "\n",
    "## Method definition of isMajorityElement\n",
    "def isMajorityElement(nums, candidate):\n",
    "    cnt = 0\n",
    "    size = len(nums)\n",
    "    for i in range(size):\n",
    "        if nums[i] == candidate:\n",
    "            cnt += 1\n",
    "    if cnt > size/2:\n",
    "        return 1\n",
    "    else:\n",
    "        return 0\n",
    "\n",
    "## Method definition of printMajorityElement\n",
    "def printMajorityElement(nums):\n",
    "    cand = findCandidate(nums)\n",
    "    if isMajorityElement(nums, cand):\n",
    "        print(\"Majority element is:\", cand)\n",
    "    else:\n",
    "        print(\"No Majority element exists in an array\")\n",
    "\n",
    "## Driver code\n",
    "nums = [3, 2, 3, 4, 3]\n",
    "printMajorityElement(nums)"
   ]
  },
  {
   "cell_type": "code",
   "execution_count": null,
   "id": "5e22b86e",
   "metadata": {},
   "outputs": [],
   "source": []
  }
 ],
 "metadata": {
  "kernelspec": {
   "display_name": "Python 3 (ipykernel)",
   "language": "python",
   "name": "python3"
  },
  "language_info": {
   "codemirror_mode": {
    "name": "ipython",
    "version": 3
   },
   "file_extension": ".py",
   "mimetype": "text/x-python",
   "name": "python",
   "nbconvert_exporter": "python",
   "pygments_lexer": "ipython3",
   "version": "3.9.12"
  }
 },
 "nbformat": 4,
 "nbformat_minor": 5
}
