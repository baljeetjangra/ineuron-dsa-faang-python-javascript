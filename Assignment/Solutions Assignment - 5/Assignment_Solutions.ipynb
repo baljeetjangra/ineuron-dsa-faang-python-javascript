{
  "cells": [
    {
      "cell_type": "markdown",
      "id": "ed1ab05d-56b6-45f1-a1da-31fb42f8d1c1",
      "metadata": {
        "id": "ed1ab05d-56b6-45f1-a1da-31fb42f8d1c1"
      },
      "source": [
        "**Checking of Square Root of x using Binary Search Approach**"
      ]
    },
    {
      "cell_type": "code",
      "execution_count": 3,
      "id": "d6729601-711a-422e-b694-17f2826b2301",
      "metadata": {
        "colab": {
          "base_uri": "https://localhost:8080/"
        },
        "id": "d6729601-711a-422e-b694-17f2826b2301",
        "outputId": "091bd7f7-69fa-49c9-8603-8bcbd9e5cb6e"
      },
      "outputs": [
        {
          "output_type": "stream",
          "name": "stdout",
          "text": [
            "3\n"
          ]
        }
      ],
      "source": [
        "## Method Definition\n",
        "def sqrt(inp):\n",
        "    right =inp\n",
        "    left= 0\n",
        "    result= 0\n",
        "    while (left <= right):\n",
        "        mid= (left+right)//2\n",
        "        \n",
        "        if mid*mid== inp :\n",
        "            result= mid\n",
        "            break\n",
        "            \n",
        "        elif mid*mid < inp:\n",
        "            left= mid+1\n",
        "            result= mid   \n",
        "        else:\n",
        "            right= mid -1   \n",
        "    return result\n",
        "# Driver Code\n",
        "inp= 10\n",
        "print(sqrt(inp))"
      ]
    },
    {
      "cell_type": "markdown",
      "id": "af64bdc2-0516-41d8-8a9f-8627090fd3ab",
      "metadata": {
        "id": "af64bdc2-0516-41d8-8a9f-8627090fd3ab"
      },
      "source": [
        "**First Bad Version**"
      ]
    },
    {
      "cell_type": "code",
      "execution_count": 6,
      "id": "d0de2bdc-f2df-4677-80f3-a5c3c8c44cb8",
      "metadata": {
        "colab": {
          "base_uri": "https://localhost:8080/"
        },
        "id": "d0de2bdc-f2df-4677-80f3-a5c3c8c44cb8",
        "outputId": "f3c0c87d-2298-411c-c949-146acd2d5c58"
      },
      "outputs": [
        {
          "output_type": "execute_result",
          "data": {
            "text/plain": [
              "1"
            ]
          },
          "metadata": {},
          "execution_count": 6
        }
      ],
      "source": [
        "## Method Definition\n",
        "def first_bad_version(a):\n",
        "    left= 0\n",
        "    right= len(a)-1\n",
        "    ans=0\n",
        "    while left <= right:\n",
        "        mid= (left+right)//2\n",
        "        if a[mid-1] ==0 and a[mid]==1:\n",
        "            ans= mid\n",
        "            break\n",
        "        elif a[mid]==0:\n",
        "            left= mid+1\n",
        "        else:\n",
        "            right= mid-1\n",
        "        \n",
        "    return ans\n",
        "\n",
        "# Driver Code\n",
        "inp=[0,1,1,1,1,1]\n",
        "first_bad_version(inp)"
      ]
    },
    {
      "cell_type": "markdown",
      "id": "99d65eb8-a337-4e3b-8daf-7ac6f7a040cd",
      "metadata": {
        "id": "99d65eb8-a337-4e3b-8daf-7ac6f7a040cd"
      },
      "source": [
        "**Finding a perfect square**"
      ]
    },
    {
      "cell_type": "code",
      "execution_count": 9,
      "id": "b43cb678-14e8-4393-bd28-03e5ff304ba5",
      "metadata": {
        "colab": {
          "base_uri": "https://localhost:8080/"
        },
        "id": "b43cb678-14e8-4393-bd28-03e5ff304ba5",
        "outputId": "318b8ef1-5a50-4b50-ed32-5861001a9dde"
      },
      "outputs": [
        {
          "output_type": "execute_result",
          "data": {
            "text/plain": [
              "False"
            ]
          },
          "metadata": {},
          "execution_count": 9
        }
      ],
      "source": [
        "## Method Definition\n",
        "def perfect_square(num):\n",
        "    \n",
        "    left= 0\n",
        "    right= num\n",
        "    \n",
        "    while left<= right:\n",
        "        mid= (left+right)//2\n",
        "        \n",
        "        if mid*mid== num:\n",
        "            return True\n",
        "        \n",
        "        elif mid*mid> num:\n",
        "            right= mid-1\n",
        "            \n",
        "        else:\n",
        "            left= mid+1\n",
        "    return False\n",
        "\n",
        "## Driver Code\n",
        "num= 28\n",
        "perfect_square(num)"
      ]
    },
    {
      "cell_type": "code",
      "execution_count": null,
      "id": "fb2a4d81-5a33-4ce3-8592-137fa9345913",
      "metadata": {
        "id": "fb2a4d81-5a33-4ce3-8592-137fa9345913"
      },
      "outputs": [],
      "source": []
    }
  ],
  "metadata": {
    "kernelspec": {
      "display_name": "Python 3 (ipykernel)",
      "language": "python",
      "name": "python3"
    },
    "language_info": {
      "codemirror_mode": {
        "name": "ipython",
        "version": 3
      },
      "file_extension": ".py",
      "mimetype": "text/x-python",
      "name": "python",
      "nbconvert_exporter": "python",
      "pygments_lexer": "ipython3",
      "version": "3.9.12"
    },
    "colab": {
      "provenance": []
    }
  },
  "nbformat": 4,
  "nbformat_minor": 5
}