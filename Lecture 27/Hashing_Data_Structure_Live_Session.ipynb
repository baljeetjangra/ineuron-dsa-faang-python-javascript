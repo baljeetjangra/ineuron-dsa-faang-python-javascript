{
  "nbformat": 4,
  "nbformat_minor": 0,
  "metadata": {
    "colab": {
      "provenance": []
    },
    "kernelspec": {
      "name": "python3",
      "display_name": "Python 3"
    },
    "language_info": {
      "name": "python"
    }
  },
  "cells": [
    {
      "cell_type": "markdown",
      "source": [
        "**Importing the demo file**"
      ],
      "metadata": {
        "id": "0WaIR0MZaoWM"
      }
    },
    {
      "cell_type": "code",
      "execution_count": 1,
      "metadata": {
        "id": "VF3uRt4aU6A_"
      },
      "outputs": [],
      "source": [
        "import pandas as pd\n",
        "data = pd.read_csv('/content/Annual Price.csv')"
      ]
    },
    {
      "cell_type": "code",
      "source": [
        "data"
      ],
      "metadata": {
        "colab": {
          "base_uri": "https://localhost:8080/",
          "height": 332
        },
        "id": "aWAfpGdpVQuB",
        "outputId": "5e9e4875-76d9-4911-ed1c-db8276c01de8"
      },
      "execution_count": 2,
      "outputs": [
        {
          "output_type": "execute_result",
          "data": {
            "text/plain": [
              "         Date  Price\n",
              "0  March 2020    234\n",
              "1  March 2021    345\n",
              "2  March 2022    445\n",
              "3  March 2023    553\n",
              "4  March 2025    678\n",
              "5  March 2026    789\n",
              "6  March 2027    598\n",
              "7  March 2028    569\n",
              "8  March 2029    987"
            ],
            "text/html": [
              "\n",
              "  <div id=\"df-2d5fc903-9614-4ab4-a7b9-9fbb1d634f68\">\n",
              "    <div class=\"colab-df-container\">\n",
              "      <div>\n",
              "<style scoped>\n",
              "    .dataframe tbody tr th:only-of-type {\n",
              "        vertical-align: middle;\n",
              "    }\n",
              "\n",
              "    .dataframe tbody tr th {\n",
              "        vertical-align: top;\n",
              "    }\n",
              "\n",
              "    .dataframe thead th {\n",
              "        text-align: right;\n",
              "    }\n",
              "</style>\n",
              "<table border=\"1\" class=\"dataframe\">\n",
              "  <thead>\n",
              "    <tr style=\"text-align: right;\">\n",
              "      <th></th>\n",
              "      <th>Date</th>\n",
              "      <th>Price</th>\n",
              "    </tr>\n",
              "  </thead>\n",
              "  <tbody>\n",
              "    <tr>\n",
              "      <th>0</th>\n",
              "      <td>March 2020</td>\n",
              "      <td>234</td>\n",
              "    </tr>\n",
              "    <tr>\n",
              "      <th>1</th>\n",
              "      <td>March 2021</td>\n",
              "      <td>345</td>\n",
              "    </tr>\n",
              "    <tr>\n",
              "      <th>2</th>\n",
              "      <td>March 2022</td>\n",
              "      <td>445</td>\n",
              "    </tr>\n",
              "    <tr>\n",
              "      <th>3</th>\n",
              "      <td>March 2023</td>\n",
              "      <td>553</td>\n",
              "    </tr>\n",
              "    <tr>\n",
              "      <th>4</th>\n",
              "      <td>March 2025</td>\n",
              "      <td>678</td>\n",
              "    </tr>\n",
              "    <tr>\n",
              "      <th>5</th>\n",
              "      <td>March 2026</td>\n",
              "      <td>789</td>\n",
              "    </tr>\n",
              "    <tr>\n",
              "      <th>6</th>\n",
              "      <td>March 2027</td>\n",
              "      <td>598</td>\n",
              "    </tr>\n",
              "    <tr>\n",
              "      <th>7</th>\n",
              "      <td>March 2028</td>\n",
              "      <td>569</td>\n",
              "    </tr>\n",
              "    <tr>\n",
              "      <th>8</th>\n",
              "      <td>March 2029</td>\n",
              "      <td>987</td>\n",
              "    </tr>\n",
              "  </tbody>\n",
              "</table>\n",
              "</div>\n",
              "      <button class=\"colab-df-convert\" onclick=\"convertToInteractive('df-2d5fc903-9614-4ab4-a7b9-9fbb1d634f68')\"\n",
              "              title=\"Convert this dataframe to an interactive table.\"\n",
              "              style=\"display:none;\">\n",
              "        \n",
              "  <svg xmlns=\"http://www.w3.org/2000/svg\" height=\"24px\"viewBox=\"0 0 24 24\"\n",
              "       width=\"24px\">\n",
              "    <path d=\"M0 0h24v24H0V0z\" fill=\"none\"/>\n",
              "    <path d=\"M18.56 5.44l.94 2.06.94-2.06 2.06-.94-2.06-.94-.94-2.06-.94 2.06-2.06.94zm-11 1L8.5 8.5l.94-2.06 2.06-.94-2.06-.94L8.5 2.5l-.94 2.06-2.06.94zm10 10l.94 2.06.94-2.06 2.06-.94-2.06-.94-.94-2.06-.94 2.06-2.06.94z\"/><path d=\"M17.41 7.96l-1.37-1.37c-.4-.4-.92-.59-1.43-.59-.52 0-1.04.2-1.43.59L10.3 9.45l-7.72 7.72c-.78.78-.78 2.05 0 2.83L4 21.41c.39.39.9.59 1.41.59.51 0 1.02-.2 1.41-.59l7.78-7.78 2.81-2.81c.8-.78.8-2.07 0-2.86zM5.41 20L4 18.59l7.72-7.72 1.47 1.35L5.41 20z\"/>\n",
              "  </svg>\n",
              "      </button>\n",
              "      \n",
              "  <style>\n",
              "    .colab-df-container {\n",
              "      display:flex;\n",
              "      flex-wrap:wrap;\n",
              "      gap: 12px;\n",
              "    }\n",
              "\n",
              "    .colab-df-convert {\n",
              "      background-color: #E8F0FE;\n",
              "      border: none;\n",
              "      border-radius: 50%;\n",
              "      cursor: pointer;\n",
              "      display: none;\n",
              "      fill: #1967D2;\n",
              "      height: 32px;\n",
              "      padding: 0 0 0 0;\n",
              "      width: 32px;\n",
              "    }\n",
              "\n",
              "    .colab-df-convert:hover {\n",
              "      background-color: #E2EBFA;\n",
              "      box-shadow: 0px 1px 2px rgba(60, 64, 67, 0.3), 0px 1px 3px 1px rgba(60, 64, 67, 0.15);\n",
              "      fill: #174EA6;\n",
              "    }\n",
              "\n",
              "    [theme=dark] .colab-df-convert {\n",
              "      background-color: #3B4455;\n",
              "      fill: #D2E3FC;\n",
              "    }\n",
              "\n",
              "    [theme=dark] .colab-df-convert:hover {\n",
              "      background-color: #434B5C;\n",
              "      box-shadow: 0px 1px 3px 1px rgba(0, 0, 0, 0.15);\n",
              "      filter: drop-shadow(0px 1px 2px rgba(0, 0, 0, 0.3));\n",
              "      fill: #FFFFFF;\n",
              "    }\n",
              "  </style>\n",
              "\n",
              "      <script>\n",
              "        const buttonEl =\n",
              "          document.querySelector('#df-2d5fc903-9614-4ab4-a7b9-9fbb1d634f68 button.colab-df-convert');\n",
              "        buttonEl.style.display =\n",
              "          google.colab.kernel.accessAllowed ? 'block' : 'none';\n",
              "\n",
              "        async function convertToInteractive(key) {\n",
              "          const element = document.querySelector('#df-2d5fc903-9614-4ab4-a7b9-9fbb1d634f68');\n",
              "          const dataTable =\n",
              "            await google.colab.kernel.invokeFunction('convertToInteractive',\n",
              "                                                     [key], {});\n",
              "          if (!dataTable) return;\n",
              "\n",
              "          const docLinkHtml = 'Like what you see? Visit the ' +\n",
              "            '<a target=\"_blank\" href=https://colab.research.google.com/notebooks/data_table.ipynb>data table notebook</a>'\n",
              "            + ' to learn more about interactive tables.';\n",
              "          element.innerHTML = '';\n",
              "          dataTable['output_type'] = 'display_data';\n",
              "          await google.colab.output.renderOutput(dataTable, element);\n",
              "          const docLink = document.createElement('div');\n",
              "          docLink.innerHTML = docLinkHtml;\n",
              "          element.appendChild(docLink);\n",
              "        }\n",
              "      </script>\n",
              "    </div>\n",
              "  </div>\n",
              "  "
            ]
          },
          "metadata": {},
          "execution_count": 2
        }
      ]
    },
    {
      "cell_type": "markdown",
      "source": [
        "**Implementation of search using list and why dict is required**"
      ],
      "metadata": {
        "id": "jtZgNoVRasJX"
      }
    },
    {
      "cell_type": "code",
      "source": [
        "dataList = data.values.tolist()"
      ],
      "metadata": {
        "id": "aQ0vNdV1VSXA"
      },
      "execution_count": 3,
      "outputs": []
    },
    {
      "cell_type": "code",
      "source": [
        "dataList"
      ],
      "metadata": {
        "colab": {
          "base_uri": "https://localhost:8080/"
        },
        "id": "RJ2cCjlrVZbe",
        "outputId": "7d803c65-d783-44bc-c89e-6fe39029a29a"
      },
      "execution_count": 4,
      "outputs": [
        {
          "output_type": "execute_result",
          "data": {
            "text/plain": [
              "[['March 2020', 234],\n",
              " ['March 2021', 345],\n",
              " ['March 2022', 445],\n",
              " ['March 2023', 553],\n",
              " ['March 2025', 678],\n",
              " ['March 2026', 789],\n",
              " ['March 2027', 598],\n",
              " ['March 2028', 569],\n",
              " ['March 2029', 987]]"
            ]
          },
          "metadata": {},
          "execution_count": 4
        }
      ]
    },
    {
      "cell_type": "markdown",
      "source": [
        "Price on March 2026"
      ],
      "metadata": {
        "id": "UjEMOosRVlEN"
      }
    },
    {
      "cell_type": "markdown",
      "source": [
        "Time Complexity: O(n)\n",
        "\n",
        "Approach: Linear Search"
      ],
      "metadata": {
        "id": "-n7seuoeWCIi"
      }
    },
    {
      "cell_type": "code",
      "source": [
        "for elements in dataList:\n",
        "  if elements[0] == 'March 2026':\n",
        "    print(elements[1])"
      ],
      "metadata": {
        "colab": {
          "base_uri": "https://localhost:8080/"
        },
        "id": "afF3TewqVaqf",
        "outputId": "86cf1102-9170-477c-ef2c-c5631a99e0dc"
      },
      "execution_count": 5,
      "outputs": [
        {
          "output_type": "stream",
          "name": "stdout",
          "text": [
            "789\n"
          ]
        }
      ]
    },
    {
      "cell_type": "markdown",
      "source": [
        "**Implementation using dictionary**"
      ],
      "metadata": {
        "id": "1sWOAjtHazg7"
      }
    },
    {
      "cell_type": "code",
      "source": [
        "hashing = dict(data.values)\n",
        "hashing"
      ],
      "metadata": {
        "colab": {
          "base_uri": "https://localhost:8080/"
        },
        "id": "yjtgIouCVydi",
        "outputId": "3be05af3-d1ab-4bfd-ff74-f60a5aa3e895"
      },
      "execution_count": 6,
      "outputs": [
        {
          "output_type": "execute_result",
          "data": {
            "text/plain": [
              "{'March 2020': 234,\n",
              " 'March 2021': 345,\n",
              " 'March 2022': 445,\n",
              " 'March 2023': 553,\n",
              " 'March 2025': 678,\n",
              " 'March 2026': 789,\n",
              " 'March 2027': 598,\n",
              " 'March 2028': 569,\n",
              " 'March 2029': 987}"
            ]
          },
          "metadata": {},
          "execution_count": 6
        }
      ]
    },
    {
      "cell_type": "code",
      "source": [
        "hashing['March 2026']"
      ],
      "metadata": {
        "colab": {
          "base_uri": "https://localhost:8080/"
        },
        "id": "eo-rP2omWXap",
        "outputId": "c41402fa-335e-4e10-91f2-d871cad533f6"
      },
      "execution_count": 7,
      "outputs": [
        {
          "output_type": "execute_result",
          "data": {
            "text/plain": [
              "789"
            ]
          },
          "metadata": {},
          "execution_count": 7
        }
      ]
    },
    {
      "cell_type": "markdown",
      "source": [
        "**Create a hash function which is responsible to generate the key of given value**"
      ],
      "metadata": {
        "id": "fOlgzkeoa279"
      }
    },
    {
      "cell_type": "code",
      "source": [
        "ord('M')"
      ],
      "metadata": {
        "colab": {
          "base_uri": "https://localhost:8080/"
        },
        "id": "Dfhs3rz2Wh4e",
        "outputId": "620922ab-56ad-486b-c4f8-a0aab9f69888"
      },
      "execution_count": 8,
      "outputs": [
        {
          "output_type": "execute_result",
          "data": {
            "text/plain": [
              "77"
            ]
          },
          "metadata": {},
          "execution_count": 8
        }
      ]
    },
    {
      "cell_type": "markdown",
      "source": [
        "**Hash Function Definition - Division Modulo Approach**"
      ],
      "metadata": {
        "id": "b7yqAp_ynjF5"
      }
    },
    {
      "cell_type": "code",
      "source": [
        "def hash_function(key):\n",
        "  summation = 0\n",
        "  ## size of the hashtable\n",
        "  m = 10\n",
        "  for char in key:\n",
        "    summation += ord(char)\n",
        "  ## division modulo hash function\n",
        "  return summation % m"
      ],
      "metadata": {
        "id": "aV3DCxCyaifM"
      },
      "execution_count": 9,
      "outputs": []
    },
    {
      "cell_type": "code",
      "source": [
        "hash_function('March 2026')"
      ],
      "metadata": {
        "colab": {
          "base_uri": "https://localhost:8080/"
        },
        "id": "jVfYiMuzbaTs",
        "outputId": "92487cea-34a8-4a1f-8314-6f273f6a9451"
      },
      "execution_count": 10,
      "outputs": [
        {
          "output_type": "execute_result",
          "data": {
            "text/plain": [
              "5"
            ]
          },
          "metadata": {},
          "execution_count": 10
        }
      ]
    },
    {
      "cell_type": "code",
      "source": [
        "hash_function('March 2020')"
      ],
      "metadata": {
        "colab": {
          "base_uri": "https://localhost:8080/"
        },
        "id": "IhtFK0rmbgNT",
        "outputId": "fdad9091-a119-4d59-e96c-0cd0610736a6"
      },
      "execution_count": 11,
      "outputs": [
        {
          "output_type": "execute_result",
          "data": {
            "text/plain": [
              "9"
            ]
          },
          "metadata": {},
          "execution_count": 11
        }
      ]
    },
    {
      "cell_type": "markdown",
      "source": [
        "Create a class of HashTable in which we will be able to perform the below operations:\n",
        "\n",
        "\n",
        "1.   Addition of an item in the hash table\n",
        "\n",
        "2.   Extraction of any item in the hash table\n",
        "\n",
        "3.   Creation of any hash function \n",
        "\n"
      ],
      "metadata": {
        "id": "m7Iz9LZbe6dw"
      }
    },
    {
      "cell_type": "code",
      "source": [
        "class HashTable:\n",
        "  def __init__(self):\n",
        "    ## size of hashtable is 10\n",
        "    self.MAX = 10\n",
        "    ## intialize all elements as None\n",
        "    self.arr = [None for i in range(self.MAX)]\n",
        "\n",
        "  ## hash function method definition\n",
        "  def hash_function(self, key):\n",
        "    summation = 0\n",
        "    ## size of the hashtable\n",
        "    m = 10\n",
        "    for char in key:\n",
        "      summation += ord(char)\n",
        "    ## division modulo hash function\n",
        "    return summation % m\n",
        "\n",
        "  ## addition of an item in the hash table\n",
        "  def addItem(self, key, value):\n",
        "    h = self.hash_function(key)\n",
        "    self.arr[h] = value\n",
        "  \n",
        "  ## get any item from the hash table\n",
        "  def getItem(self, key):\n",
        "    h = self.hash_function(key)\n",
        "    return self.arr[h]"
      ],
      "metadata": {
        "id": "wOAGdwmHbnnC"
      },
      "execution_count": 12,
      "outputs": []
    },
    {
      "cell_type": "code",
      "source": [
        "## create an object of the class HashTable\n",
        "obj = HashTable()"
      ],
      "metadata": {
        "id": "jCwx_yqxgqYD"
      },
      "execution_count": 13,
      "outputs": []
    },
    {
      "cell_type": "code",
      "source": [
        "## display the array elements of hash table\n",
        "obj.arr"
      ],
      "metadata": {
        "colab": {
          "base_uri": "https://localhost:8080/"
        },
        "id": "vFVQo46sg122",
        "outputId": "0a3cbfbe-50e3-448e-dd4a-37f5718aced9"
      },
      "execution_count": 14,
      "outputs": [
        {
          "output_type": "execute_result",
          "data": {
            "text/plain": [
              "[None, None, None, None, None, None, None, None, None, None]"
            ]
          },
          "metadata": {},
          "execution_count": 14
        }
      ]
    },
    {
      "cell_type": "code",
      "source": [
        "obj.addItem('March 2020', 234)\n",
        "obj.addItem('March 2021', 345)\n",
        "obj.addItem('March 2022', 445)\n",
        "obj.addItem('March 2023', 553)"
      ],
      "metadata": {
        "id": "3zPpx8JUhAZ9"
      },
      "execution_count": 15,
      "outputs": []
    },
    {
      "cell_type": "code",
      "source": [
        "obj.arr"
      ],
      "metadata": {
        "colab": {
          "base_uri": "https://localhost:8080/"
        },
        "id": "seJvlntchYJF",
        "outputId": "aa9c3dcb-d547-46a7-9976-8ff74b7337b7"
      },
      "execution_count": 16,
      "outputs": [
        {
          "output_type": "execute_result",
          "data": {
            "text/plain": [
              "[345, 445, 553, None, None, None, None, None, None, 234]"
            ]
          },
          "metadata": {},
          "execution_count": 16
        }
      ]
    },
    {
      "cell_type": "code",
      "source": [
        "obj.getItem('March 2023')"
      ],
      "metadata": {
        "colab": {
          "base_uri": "https://localhost:8080/"
        },
        "id": "cpNJ7YJqhyBl",
        "outputId": "9a1bdeab-1bbc-4bba-d730-3fdb09bc0338"
      },
      "execution_count": 17,
      "outputs": [
        {
          "output_type": "execute_result",
          "data": {
            "text/plain": [
              "553"
            ]
          },
          "metadata": {},
          "execution_count": 17
        }
      ]
    },
    {
      "cell_type": "markdown",
      "source": [
        "**Method Overloading and Method Overriding**"
      ],
      "metadata": {
        "id": "tR8oPslMkhbg"
      }
    },
    {
      "cell_type": "code",
      "source": [
        "## obj[key] = value\n",
        "class HashTable:\n",
        "  def __init__(self):\n",
        "    ## size of hashtable is 10\n",
        "    self.MAX = 10\n",
        "    ## intialize all elements as None\n",
        "    self.arr = [None for i in range(self.MAX)]\n",
        "\n",
        "  ## hash function method definition\n",
        "  def hash_function(self, key):\n",
        "    summation = 0\n",
        "    for char in key:\n",
        "      summation += ord(char)\n",
        "    ## division modulo hash function\n",
        "    return summation % self.MAX\n",
        "\n",
        "  ## addition of an item in the hash table\n",
        "  def __setitem__(self, key, value):\n",
        "    h = self.hash_function(key)\n",
        "    self.arr[h] = value\n",
        "  \n",
        "  ## get any item from the hash table\n",
        "  def __getitem__(self, key):\n",
        "    h = self.hash_function(key)\n",
        "    return self.arr[h]"
      ],
      "metadata": {
        "id": "87klf0EKkYoB"
      },
      "execution_count": 18,
      "outputs": []
    },
    {
      "cell_type": "code",
      "source": [
        "obj1 = HashTable()\n",
        "obj1['March 2025'] = 678"
      ],
      "metadata": {
        "id": "HdWQ-ZrJlwTT"
      },
      "execution_count": 19,
      "outputs": []
    },
    {
      "cell_type": "code",
      "source": [
        "obj1['March 2025']"
      ],
      "metadata": {
        "colab": {
          "base_uri": "https://localhost:8080/"
        },
        "id": "JoW_dQsUmAJY",
        "outputId": "648a369e-c462-4c29-ea9d-00f685f7e971"
      },
      "execution_count": 20,
      "outputs": [
        {
          "output_type": "execute_result",
          "data": {
            "text/plain": [
              "678"
            ]
          },
          "metadata": {},
          "execution_count": 20
        }
      ]
    },
    {
      "cell_type": "markdown",
      "source": [
        "**Collision happen when march 6 and march 17 will be the key because the hash value of both of them is 9 only.**"
      ],
      "metadata": {
        "id": "bFhJEcsKU7Rr"
      }
    },
    {
      "cell_type": "markdown",
      "source": [
        "Here, we are not handling any collisions in Hash Table"
      ],
      "metadata": {
        "id": "Hf16rbd1U_VZ"
      }
    },
    {
      "cell_type": "code",
      "source": [
        "hash_function('march 6')"
      ],
      "metadata": {
        "colab": {
          "base_uri": "https://localhost:8080/"
        },
        "id": "asbYwNELVhmN",
        "outputId": "7d1ffa49-c051-413a-8c63-7e08291e8239"
      },
      "execution_count": 30,
      "outputs": [
        {
          "output_type": "execute_result",
          "data": {
            "text/plain": [
              "9"
            ]
          },
          "metadata": {},
          "execution_count": 30
        }
      ]
    },
    {
      "cell_type": "code",
      "source": [
        "hash_function('march 17')"
      ],
      "metadata": {
        "colab": {
          "base_uri": "https://localhost:8080/"
        },
        "id": "puuDZKMbVkrQ",
        "outputId": "a4ed0e1e-50c0-4aae-a99a-eec247ed6a26"
      },
      "execution_count": 31,
      "outputs": [
        {
          "output_type": "execute_result",
          "data": {
            "text/plain": [
              "9"
            ]
          },
          "metadata": {},
          "execution_count": 31
        }
      ]
    },
    {
      "cell_type": "code",
      "source": [
        "obj1['march 6'] = 20\n",
        "obj1['march 17'] = 27"
      ],
      "metadata": {
        "id": "89ZDMavjUsI2"
      },
      "execution_count": 27,
      "outputs": []
    },
    {
      "cell_type": "markdown",
      "source": [
        "Observation: Data loss\n",
        "\n",
        "Why??\n",
        "\n",
        "Because value will be overwritten if you face collision in the Hashtable"
      ],
      "metadata": {
        "id": "Ae7xgv7mVXFg"
      }
    },
    {
      "cell_type": "code",
      "source": [
        "obj1['march 6']"
      ],
      "metadata": {
        "colab": {
          "base_uri": "https://localhost:8080/"
        },
        "id": "u-lMgGsZU09-",
        "outputId": "cc941f2e-58be-4a2a-819c-f3085e70d89a"
      },
      "execution_count": 28,
      "outputs": [
        {
          "output_type": "execute_result",
          "data": {
            "text/plain": [
              "27"
            ]
          },
          "metadata": {},
          "execution_count": 28
        }
      ]
    },
    {
      "cell_type": "code",
      "source": [
        "obj1.arr"
      ],
      "metadata": {
        "colab": {
          "base_uri": "https://localhost:8080/"
        },
        "id": "IzdYLl2nVNEw",
        "outputId": "02f16e09-6b4a-4454-d0fd-ebf7b10fd06d"
      },
      "execution_count": 29,
      "outputs": [
        {
          "output_type": "execute_result",
          "data": {
            "text/plain": [
              "[None, None, None, None, 678, None, None, None, None, 27]"
            ]
          },
          "metadata": {},
          "execution_count": 29
        }
      ]
    },
    {
      "cell_type": "markdown",
      "source": [
        "**Chaining Implementation - to avoid the collisions inside the HashTable**"
      ],
      "metadata": {
        "id": "rDdhDcKoS0ma"
      }
    },
    {
      "cell_type": "code",
      "source": [
        "## obj[key] = value\n",
        "class HashTable:\n",
        "  def __init__(self):\n",
        "    ## size of hashtable is 10\n",
        "    self.MAX = 10\n",
        "    ## intialize all elements as None\n",
        "    self.arr = [[] for i in range(self.MAX)]\n",
        "\n",
        "  ## hash function method definition\n",
        "  def hash_function(self, key):\n",
        "    summation = 0\n",
        "    for char in key:\n",
        "      summation += ord(char)\n",
        "    ## division modulo hash function\n",
        "    return summation % self.MAX\n",
        "\n",
        "  ## addition of an item in the hash table\n",
        "  def __setitem__(self, key, value):\n",
        "    found = False\n",
        "    h = self.hash_function(key)\n",
        "\n",
        "    for index, element in enumerate(self.arr[h]):\n",
        "      if len(element) == 2 and element[0] == key:\n",
        "        self.arr[h][index] = (key, value)\n",
        "        found = True\n",
        "        break\n",
        "\n",
        "    if not found:\n",
        "      self.arr[h].append((key, value))\n",
        "  \n",
        "  ## get any item from the hash table\n",
        "  ## element - (key, value)\n",
        "  ## element[0] - key\n",
        "  ## element[1] - value\n",
        "  def __getitem__(self, key):\n",
        "    h = self.hash_function(key)\n",
        "    for index, element in enumerate(self.arr[h]):\n",
        "      if element[0] == key:\n",
        "        return element[1]\n",
        "\n",
        "  \n",
        "  ## delete the item from the hashtable\n",
        "  def __delitem__(self, key):\n",
        "    h = self.hash_function(key)\n",
        "    for index, element in enumerate(self.arr[h]):\n",
        "      if element[0] == key:\n",
        "        del self.arr[h][index]"
      ],
      "metadata": {
        "id": "am_EGEGEmQl4"
      },
      "execution_count": 41,
      "outputs": []
    },
    {
      "cell_type": "markdown",
      "source": [
        "**Collision happen when march 6 and march 17 will be the key because the hash value of both of them is 9 only.**"
      ],
      "metadata": {
        "id": "fjgDhqctUeRx"
      }
    },
    {
      "cell_type": "code",
      "source": [
        "hash_function('march 6')"
      ],
      "metadata": {
        "colab": {
          "base_uri": "https://localhost:8080/"
        },
        "id": "9i-vKpLwUV7H",
        "outputId": "91b92949-96c7-4bdb-dca4-858610cbc620"
      },
      "execution_count": 26,
      "outputs": [
        {
          "output_type": "execute_result",
          "data": {
            "text/plain": [
              "9"
            ]
          },
          "metadata": {},
          "execution_count": 26
        }
      ]
    },
    {
      "cell_type": "code",
      "source": [
        "obj2 = HashTable()\n",
        "obj2['march 6'] = 20\n",
        "obj2['march 17'] = 27"
      ],
      "metadata": {
        "id": "HqKDuu75UOIf"
      },
      "execution_count": 42,
      "outputs": []
    },
    {
      "cell_type": "code",
      "source": [
        "obj2['march 17']"
      ],
      "metadata": {
        "colab": {
          "base_uri": "https://localhost:8080/"
        },
        "id": "OaALY3fLWc63",
        "outputId": "9b59a6da-a974-4e24-85b5-2f4974118e5c"
      },
      "execution_count": 43,
      "outputs": [
        {
          "output_type": "execute_result",
          "data": {
            "text/plain": [
              "27"
            ]
          },
          "metadata": {},
          "execution_count": 43
        }
      ]
    },
    {
      "cell_type": "code",
      "source": [
        "obj2.arr"
      ],
      "metadata": {
        "colab": {
          "base_uri": "https://localhost:8080/"
        },
        "id": "le_nqowYWjoe",
        "outputId": "a66a492c-f06c-4253-b95c-63dc8b4cd6e6"
      },
      "execution_count": 44,
      "outputs": [
        {
          "output_type": "execute_result",
          "data": {
            "text/plain": [
              "[[], [], [], [], [], [], [], [], [], [('march 6', 20), ('march 17', 27)]]"
            ]
          },
          "metadata": {},
          "execution_count": 44
        }
      ]
    },
    {
      "cell_type": "code",
      "source": [
        "del obj2['march 6']"
      ],
      "metadata": {
        "id": "3Hlw-yaWWn49"
      },
      "execution_count": 45,
      "outputs": []
    },
    {
      "cell_type": "code",
      "source": [
        "obj2.arr"
      ],
      "metadata": {
        "colab": {
          "base_uri": "https://localhost:8080/"
        },
        "id": "-DPbUOgjYK9L",
        "outputId": "78b54523-cef2-42c7-83ac-94da89b2cfa0"
      },
      "execution_count": 46,
      "outputs": [
        {
          "output_type": "execute_result",
          "data": {
            "text/plain": [
              "[[], [], [], [], [], [], [], [], [], [('march 17', 27)]]"
            ]
          },
          "metadata": {},
          "execution_count": 46
        }
      ]
    },
    {
      "cell_type": "markdown",
      "source": [
        "**Open Addressing - Linear Probing, Quadratic Probing, Double Hashing**"
      ],
      "metadata": {
        "id": "Ibi4Q8a5YvcN"
      }
    },
    {
      "cell_type": "markdown",
      "source": [
        "**Task : Modify the below functions only to implement above techniques**"
      ],
      "metadata": {
        "id": "9mQJX0J2ZGI3"
      }
    },
    {
      "cell_type": "code",
      "source": [
        "## obj[key] = value\n",
        "class HashTable:\n",
        "  def __init__(self):\n",
        "    ## size of hashtable is 10\n",
        "    self.MAX = 10\n",
        "    ## intialize all elements as None\n",
        "    self.arr = [[] for i in range(self.MAX)]\n",
        "\n",
        "  ## hash function method definition\n",
        "  def hash_function(self, key):\n",
        "    summation = 0\n",
        "    for char in key:\n",
        "      summation += ord(char)\n",
        "    ## division modulo hash function\n",
        "    return summation % self.MAX\n",
        "\n",
        "  ## addition of an item in the hash table\n",
        "  def __setitem__(self, key, value):\n",
        "    found = False\n",
        "    h = self.hash_function(key)\n",
        "\n",
        "    for index, element in enumerate(self.arr[h]):\n",
        "      if len(element) == 2 and element[0] == key:\n",
        "        self.arr[h][index] = (key, value)\n",
        "        found = True\n",
        "        break\n",
        "\n",
        "    if not found:\n",
        "      self.arr[h].append((key, value))\n",
        "  \n",
        "  ## get any item from the hash table\n",
        "  ## element - (key, value)\n",
        "  ## element[0] - key\n",
        "  ## element[1] - value\n",
        "  def __getitem__(self, key):\n",
        "    h = self.hash_function(key)\n",
        "    for index, element in enumerate(self.arr[h]):\n",
        "      if element[0] == key:\n",
        "        return element[1]\n",
        "\n",
        "  \n",
        "  ## delete the item from the hashtable\n",
        "  def __delitem__(self, key):\n",
        "    h = self.hash_function(key)\n",
        "    for index, element in enumerate(self.arr[h]):\n",
        "      if element[0] == key:\n",
        "        del self.arr[h][index]"
      ],
      "metadata": {
        "id": "894am_xnYNtc"
      },
      "execution_count": null,
      "outputs": []
    }
  ]
}