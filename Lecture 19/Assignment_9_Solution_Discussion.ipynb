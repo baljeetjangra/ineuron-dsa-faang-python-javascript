{
  "nbformat": 4,
  "nbformat_minor": 0,
  "metadata": {
    "colab": {
      "provenance": []
    },
    "kernelspec": {
      "name": "python3",
      "display_name": "Python 3"
    },
    "language_info": {
      "name": "python"
    }
  },
  "cells": [
    {
      "cell_type": "markdown",
      "source": [
        "1. Strassen's Matrix Multiplication"
      ],
      "metadata": {
        "id": "MtMZCvKUgz-D"
      }
    },
    {
      "cell_type": "code",
      "execution_count": 3,
      "metadata": {
        "colab": {
          "base_uri": "https://localhost:8080/"
        },
        "id": "bK5RazMHgwWc",
        "outputId": "de309871-96da-4cc4-c089-ffaeaa8e98d5"
      },
      "outputs": [
        {
          "output_type": "stream",
          "name": "stdout",
          "text": [
            "Matrix multiplication result: \n",
            "[[ 8  8  8  8]\n",
            " [16 16 16 16]\n",
            " [24 24 24 24]\n",
            " [16 16 16 16]]\n"
          ]
        }
      ],
      "source": [
        "## Implementation of strassen's matrix multiplication\n",
        "## Recurrence relation: 7T(n/2) + n^2\n",
        "## Using master's theorem, O(n^2.81)\n",
        "## Approach - using divide and conquer\n",
        "import numpy as np\n",
        "\n",
        "def split(matrix):\n",
        "    row, col = matrix.shape\n",
        "    row2, col2 = row//2, col//2\n",
        "    return matrix[:row2, :col2], matrix[:row2, col2:], matrix[row2:, :col2], matrix[row2:, col2:]\n",
        "\n",
        "def strassen(x, y):\n",
        "    # Base case when size of matrices is 1x1\n",
        "    if len(x) == 1:\n",
        "        return x * y\n",
        "\n",
        "    # Splitting the matrices into quadrants. This will be done recursively\n",
        "    # until the base case is reached.\n",
        "    a, b, c, d = split(x)\n",
        "    e, f, g, h = split(y)\n",
        "\n",
        "    # Computing the 7 products, recursively (p1, p2...p7)\n",
        "    p1 = strassen(a, f - h)\n",
        "    p2 = strassen(a + b, h)\n",
        "    p3 = strassen(c + d, e)\n",
        "    p4 = strassen(d, g - e)\n",
        "    p5 = strassen(a + d, e + h)\n",
        "    p6 = strassen(b - d, g + h)\n",
        "    p7 = strassen(a - c, e + f)\n",
        "\n",
        "    # Computing the values of the 4 quadrants of the final matrix c\n",
        "    c11 = p5 + p4 - p2 + p6\n",
        "    c12 = p1 + p2\n",
        "    c21 = p3 + p4\n",
        "    c22 = p1 + p5 - p3 - p7\n",
        "\n",
        "    # Combining the 4 quadrants into a single matrix by stacking horizontally and vertically.\n",
        "    c = np.vstack((np.hstack((c11, c12)), np.hstack((c21, c22))))\n",
        "\n",
        "    return c\n",
        "\n",
        "## Driver code\n",
        "A = np.array([[1, 1, 1, 1], [2, 2, 2, 2], [3, 3, 3, 3], [2, 2, 2, 2]])\n",
        "B = np.array([[1, 1, 1, 1], [2, 2, 2, 2], [3, 3, 3, 3], [2, 2, 2, 2]])\n",
        "print('Matrix multiplication result: ')\n",
        "print(strassen(A, B))"
      ]
    },
    {
      "cell_type": "markdown",
      "source": [
        "2. Median of two arrays"
      ],
      "metadata": {
        "id": "WKWuXfVChFVs"
      }
    },
    {
      "cell_type": "markdown",
      "source": [
        "**Approach 1**"
      ],
      "metadata": {
        "id": "agq51dwPhHq0"
      }
    },
    {
      "cell_type": "code",
      "source": [
        "def findMedianSortedArrays(nums1, nums2):\n",
        "  nums = sorted(nums1 + nums2)\n",
        "  n = len(nums)\n",
        "  if n % 2 == 0:\n",
        "    mid = n//2\n",
        "    return (nums[mid] + nums[mid-1]) / 2\n",
        "  else:\n",
        "    return nums[n//2]\n",
        "\n",
        "## Driver code\n",
        "nums1 = [1, 2]\n",
        "nums2 = [3, 4]\n",
        "result = findMedianSortedArrays(nums1, nums2)\n",
        "print(result)"
      ],
      "metadata": {
        "colab": {
          "base_uri": "https://localhost:8080/"
        },
        "id": "gB-sOx8RhDTD",
        "outputId": "892922c3-e6a5-4b1b-8e4a-5df1c7e21e9f"
      },
      "execution_count": 3,
      "outputs": [
        {
          "output_type": "stream",
          "name": "stdout",
          "text": [
            "2.5\n"
          ]
        }
      ]
    },
    {
      "cell_type": "markdown",
      "source": [
        "**Approach 2**"
      ],
      "metadata": {
        "id": "h5FnYiNYhK_5"
      }
    },
    {
      "cell_type": "code",
      "source": [
        "import sys\n",
        "from typing import List\n",
        "\n",
        "\n",
        "def findMedianSortedArrays(nums1: List[int], nums2: List[int]) -> float:\n",
        "    if len(nums1) > len(nums2):\n",
        "        nums1, nums2 = nums2, nums1\n",
        "  \n",
        "    m = len(nums1)\n",
        "    n = len(nums2)\n",
        " \n",
        "    start = 0\n",
        "    end = m\n",
        "    \n",
        "    while start <= end:\n",
        "        \n",
        "        partition_nums1 = (start + end) // 2\n",
        "        partition_nums2 = (m + n + 1) // 2 - partition_nums1\n",
        "        \n",
        "        maxLeftNums1 = -sys.maxsize if partition_nums1 == 0 else nums1[partition_nums1 - 1]\n",
        "        minRightNums1 = sys.maxsize if partition_nums1 == m else nums1[partition_nums1]\n",
        "        \n",
        "        maxLeftNums2 = -sys.maxsize if partition_nums2 == 0 else nums2[partition_nums2 - 1]\n",
        "        minRightNums2 = sys.maxsize if partition_nums2 == n else nums2[partition_nums2]\n",
        "        if maxLeftNums1 <= minRightNums2 and maxLeftNums2 <= minRightNums1:\n",
        "            if (m + n) % 2 == 0:\n",
        "                return (max(maxLeftNums1, maxLeftNums2) + min(minRightNums1, minRightNums2)) / 2\n",
        "            else:\n",
        "                return max(maxLeftNums1, maxLeftNums2)\n",
        "        elif maxLeftNums1 > minRightNums2:\n",
        "            end = partition_nums1 - 1\n",
        "        else:\n",
        "            start = partition_nums1 + 1\n",
        "    raise Exception(\"IllegalArgumentException\")\n",
        "\n",
        "\n",
        "## Driver code\n",
        "nums1 = [1, 2]\n",
        "nums2 = [3, 4]\n",
        "findMedianSortedArrays(nums1, nums2)"
      ],
      "metadata": {
        "colab": {
          "base_uri": "https://localhost:8080/"
        },
        "id": "pX0knJCAhOWB",
        "outputId": "d00bb418-f123-491c-e1b7-f2f1bb2f54c7"
      },
      "execution_count": 4,
      "outputs": [
        {
          "output_type": "execute_result",
          "data": {
            "text/plain": [
              "2.5"
            ]
          },
          "metadata": {},
          "execution_count": 4
        }
      ]
    },
    {
      "cell_type": "markdown",
      "source": [
        "3. Power of an Element"
      ],
      "metadata": {
        "id": "2YiE6mLvhS5I"
      }
    },
    {
      "cell_type": "code",
      "source": [
        "def myPow(x, n):\n",
        "  if n == 0:\n",
        "    return 1\n",
        "  ## this is the major logic\n",
        "  elif n < 0:\n",
        "    x = 1/x\n",
        "    n = -n\n",
        "    return myPow(x, n)\n",
        "  elif n == 1:\n",
        "    return x\n",
        "  else:\n",
        "    ## Divide\n",
        "    mid = n // 2\n",
        "    ## conquer\n",
        "    b = myPow(x, mid)\n",
        "    result = b * b\n",
        "    ## combine\n",
        "    if n % 2 == 0:\n",
        "      return result\n",
        "    else:\n",
        "      return result * x\n",
        "\n",
        "## Driver code\n",
        "x = 2.00000\n",
        "n = -2\n",
        "result = myPow(x, n)\n",
        "print(result)"
      ],
      "metadata": {
        "colab": {
          "base_uri": "https://localhost:8080/"
        },
        "id": "MmZfbTIAhVOh",
        "outputId": "e3108bd7-803a-4176-e319-c0d7a64dceb1"
      },
      "execution_count": 2,
      "outputs": [
        {
          "output_type": "stream",
          "name": "stdout",
          "text": [
            "0.25\n"
          ]
        }
      ]
    },
    {
      "cell_type": "markdown",
      "source": [
        "4. Dividing two integers without using division, multiplication and mod operator\n",
        "\n",
        "Concept of Bit Manipulation required -> \n",
        "Indepth discussion will be done on next live class on Friday"
      ],
      "metadata": {
        "id": "SspvWku2kv0p"
      }
    },
    {
      "cell_type": "markdown",
      "source": [
        "5. Count of number of inversions"
      ],
      "metadata": {
        "id": "rwq_hNs0i8A3"
      }
    },
    {
      "cell_type": "code",
      "source": [
        "# Function to Use Inversion Count\n",
        "def mergeSort(arr, n):\n",
        "\t# A temp_arr is created to store\n",
        "\t# sorted array in merge function\n",
        "\ttemp_arr = [0]*n\n",
        "\treturn helper(arr, temp_arr, 0, n-1)\n",
        "\n",
        "\n",
        "def helper(arr, temp_arr, left, right):\n",
        "\n",
        "\tinv_count = 0\n",
        "\n",
        "\tif left < right:\n",
        "\n",
        "\t\tmid = (left + right)//2\n",
        "\n",
        "    ## Left subtree inversion count\n",
        "\t\tinv_count += helper(arr, temp_arr,\n",
        "\t\t\t\t\t\t\t\tleft, mid)\n",
        "    ## Right subtree inversion count\n",
        "\t\tinv_count += helper(arr, temp_arr,\n",
        "\t\t\t\t\t\t\t\tmid + 1, right)\n",
        "\n",
        "    ## after merge/combine inversion count\n",
        "\t\tinv_count += mergeProcedure(arr, temp_arr, left, mid, right)\n",
        "\treturn inv_count\n",
        "\n",
        "\n",
        "def mergeProcedure(arr, temp_arr, left, mid, right):\n",
        "\ti = left\t # Starting index of left subarray\n",
        "\tj = mid + 1 # Starting index of right subarray\n",
        "\tk = left\t # Starting index of to be sorted subarray\n",
        "\tinv_count = 0\n",
        "\n",
        "\t# Conditions are checked to make sure that\n",
        "\t# i and j don't exceed their\n",
        "\t# subarray limits.\n",
        "\n",
        "\twhile i <= mid and j <= right:\n",
        "\n",
        "\t\t# There will be no inversion if arr[i] <= arr[j]\n",
        "\t\tif arr[i] <= arr[j]:\n",
        "\t\t\ttemp_arr[k] = arr[i]\n",
        "\t\t\tk += 1\n",
        "\t\t\ti += 1\n",
        "\t\telse:\n",
        "\t\t\t# Inversion will occur.\n",
        "\t\t\ttemp_arr[k] = arr[j]\n",
        "\t\t\tinv_count += (mid-i + 1)\n",
        "\t\t\tk += 1\n",
        "\t\t\tj += 1\n",
        "\n",
        "\t# Copy the remaining elements of left\n",
        "\t# subarray into temporary array\n",
        "\twhile i <= mid:\n",
        "\t\ttemp_arr[k] = arr[i]\n",
        "\t\tk += 1\n",
        "\t\ti += 1\n",
        "\n",
        "\t# Copy the remaining elements of right\n",
        "\t# subarray into temporary array\n",
        "\twhile j <= right:\n",
        "\t\ttemp_arr[k] = arr[j]\n",
        "\t\tk += 1\n",
        "\t\tj += 1\n",
        "\n",
        "\t# Copy the sorted subarray into Original array\n",
        "\tfor i in range(left, right + 1):\n",
        "\t\tarr[i] = temp_arr[i]\n",
        "\n",
        "\treturn inv_count\n",
        "\n",
        "\n",
        "# Driver Code\n",
        "arr = [70, 50, 60, 10, 20, 30, 80, 15]\n",
        "n = len(arr)\n",
        "result = mergeSort(arr, n)\n",
        "print(\"Number of inversions are\", result)"
      ],
      "metadata": {
        "colab": {
          "base_uri": "https://localhost:8080/"
        },
        "id": "LU-2mZxrh0MC",
        "outputId": "10ed060b-3d2f-45eb-d7c9-7f8ed9d9c784"
      },
      "execution_count": 11,
      "outputs": [
        {
          "output_type": "stream",
          "name": "stdout",
          "text": [
            "Number of inversions are 17\n"
          ]
        }
      ]
    },
    {
      "cell_type": "code",
      "source": [],
      "metadata": {
        "id": "O7ja-1qsjfjB"
      },
      "execution_count": null,
      "outputs": []
    }
  ]
}