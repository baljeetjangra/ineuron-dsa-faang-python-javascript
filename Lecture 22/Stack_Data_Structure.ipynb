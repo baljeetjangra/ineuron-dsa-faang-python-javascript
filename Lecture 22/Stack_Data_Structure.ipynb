{
  "nbformat": 4,
  "nbformat_minor": 0,
  "metadata": {
    "colab": {
      "provenance": []
    },
    "kernelspec": {
      "name": "python3",
      "display_name": "Python 3"
    },
    "language_info": {
      "name": "python"
    }
  },
  "cells": [
    {
      "cell_type": "markdown",
      "source": [
        "**Implementation of stack using list (Dynamic List)**"
      ],
      "metadata": {
        "id": "w7eibFczhhdt"
      }
    },
    {
      "cell_type": "code",
      "execution_count": 1,
      "metadata": {
        "id": "afksxAeNhAAH"
      },
      "outputs": [],
      "source": [
        "stack = []\n",
        "stack.append('https://www.google.com/')\n",
        "stack.append('https://leetcode.com/')\n",
        "stack.append('https://leetcode.com/problemset/all/')\n",
        "stack.append('https://leetcode.com/problems/two-sum/')"
      ]
    },
    {
      "cell_type": "code",
      "source": [
        "stack.pop()"
      ],
      "metadata": {
        "colab": {
          "base_uri": "https://localhost:8080/",
          "height": 36
        },
        "id": "Oh3nmz87hU6K",
        "outputId": "88796ccb-3182-4beb-9aec-87cbe8b2ca22"
      },
      "execution_count": 2,
      "outputs": [
        {
          "output_type": "execute_result",
          "data": {
            "text/plain": [
              "'https://leetcode.com/problems/two-sum/'"
            ],
            "application/vnd.google.colaboratory.intrinsic+json": {
              "type": "string"
            }
          },
          "metadata": {},
          "execution_count": 2
        }
      ]
    },
    {
      "cell_type": "code",
      "source": [
        "stack"
      ],
      "metadata": {
        "colab": {
          "base_uri": "https://localhost:8080/"
        },
        "id": "b1t9wBAZhcRD",
        "outputId": "cbf8dadc-0270-4cdc-b9b7-d4c32a681b92"
      },
      "execution_count": 3,
      "outputs": [
        {
          "output_type": "execute_result",
          "data": {
            "text/plain": [
              "['https://www.google.com/',\n",
              " 'https://leetcode.com/',\n",
              " 'https://leetcode.com/problemset/all/']"
            ]
          },
          "metadata": {},
          "execution_count": 3
        }
      ]
    },
    {
      "cell_type": "markdown",
      "source": [
        "**Implementation of stack using deque**"
      ],
      "metadata": {
        "id": "ZT0J4CjBiBEY"
      }
    },
    {
      "cell_type": "code",
      "source": [
        "from collections import deque\n",
        "stack = deque()"
      ],
      "metadata": {
        "id": "zOUhFkBohd08"
      },
      "execution_count": 4,
      "outputs": []
    },
    {
      "cell_type": "code",
      "source": [
        "dir(stack)"
      ],
      "metadata": {
        "colab": {
          "base_uri": "https://localhost:8080/"
        },
        "id": "VU4Yo64QiKxd",
        "outputId": "2dfb6665-0532-42c9-caf4-0446b9ef24d8"
      },
      "execution_count": 5,
      "outputs": [
        {
          "output_type": "execute_result",
          "data": {
            "text/plain": [
              "['__add__',\n",
              " '__bool__',\n",
              " '__class__',\n",
              " '__contains__',\n",
              " '__copy__',\n",
              " '__delattr__',\n",
              " '__delitem__',\n",
              " '__dir__',\n",
              " '__doc__',\n",
              " '__eq__',\n",
              " '__format__',\n",
              " '__ge__',\n",
              " '__getattribute__',\n",
              " '__getitem__',\n",
              " '__gt__',\n",
              " '__hash__',\n",
              " '__iadd__',\n",
              " '__imul__',\n",
              " '__init__',\n",
              " '__init_subclass__',\n",
              " '__iter__',\n",
              " '__le__',\n",
              " '__len__',\n",
              " '__lt__',\n",
              " '__mul__',\n",
              " '__ne__',\n",
              " '__new__',\n",
              " '__reduce__',\n",
              " '__reduce_ex__',\n",
              " '__repr__',\n",
              " '__reversed__',\n",
              " '__rmul__',\n",
              " '__setattr__',\n",
              " '__setitem__',\n",
              " '__sizeof__',\n",
              " '__str__',\n",
              " '__subclasshook__',\n",
              " 'append',\n",
              " 'appendleft',\n",
              " 'clear',\n",
              " 'copy',\n",
              " 'count',\n",
              " 'extend',\n",
              " 'extendleft',\n",
              " 'index',\n",
              " 'insert',\n",
              " 'maxlen',\n",
              " 'pop',\n",
              " 'popleft',\n",
              " 'remove',\n",
              " 'reverse',\n",
              " 'rotate']"
            ]
          },
          "metadata": {},
          "execution_count": 5
        }
      ]
    },
    {
      "cell_type": "code",
      "source": [
        "stack.append('https://www.google.com/')\n",
        "stack.append('https://leetcode.com/')\n",
        "stack.append('https://leetcode.com/problemset/all/')\n",
        "stack.append('https://leetcode.com/problems/two-sum/')"
      ],
      "metadata": {
        "id": "ld1OtwC1iNZU"
      },
      "execution_count": 6,
      "outputs": []
    },
    {
      "cell_type": "code",
      "source": [
        "stack"
      ],
      "metadata": {
        "colab": {
          "base_uri": "https://localhost:8080/"
        },
        "id": "CurlxJFkiWjj",
        "outputId": "6defc52d-92dc-4f36-89c7-1d11b8783b2c"
      },
      "execution_count": 7,
      "outputs": [
        {
          "output_type": "execute_result",
          "data": {
            "text/plain": [
              "deque(['https://www.google.com/',\n",
              "       'https://leetcode.com/',\n",
              "       'https://leetcode.com/problemset/all/',\n",
              "       'https://leetcode.com/problems/two-sum/'])"
            ]
          },
          "metadata": {},
          "execution_count": 7
        }
      ]
    },
    {
      "cell_type": "code",
      "source": [
        "stack.pop()"
      ],
      "metadata": {
        "colab": {
          "base_uri": "https://localhost:8080/",
          "height": 36
        },
        "id": "TuaPjs0ViXiD",
        "outputId": "50839288-acc7-48e7-c277-160c01cf7d08"
      },
      "execution_count": 8,
      "outputs": [
        {
          "output_type": "execute_result",
          "data": {
            "text/plain": [
              "'https://leetcode.com/problems/two-sum/'"
            ],
            "application/vnd.google.colaboratory.intrinsic+json": {
              "type": "string"
            }
          },
          "metadata": {},
          "execution_count": 8
        }
      ]
    },
    {
      "cell_type": "markdown",
      "source": [
        "Interview Question: Given a string s contains just the characters '(', ')', '{', '}', '[', ']', determine if the input string is valid.\n",
        "\n",
        "{[]} - valid\n",
        "\n",
        "[}] - invalid"
      ],
      "metadata": {
        "id": "GDyuFzorm4fH"
      }
    },
    {
      "cell_type": "code",
      "source": [
        "## Method definition\n",
        "def isValid(string):\n",
        "  ## write your code here\n",
        "  bracketMapping = {\"(\":\")\", \"[\":\"]\", \"{\":\"}\"}\n",
        "  openParams = [\"(\", \"[\", \"{\"]\n",
        "  stack = []\n",
        "\n",
        "  for s in string:\n",
        "    if s in openParams:\n",
        "      stack.append(s)\n",
        "    elif stack and s == bracketMapping[stack[-1]]:\n",
        "      stack.pop()\n",
        "    else:\n",
        "      return False\n",
        "  return stack == []\n",
        "\n",
        "\n",
        "## Driver code\n",
        "string = \"(){}\"\n",
        "if isValid(string):\n",
        "  print(\"Valid Parenthesis\")\n",
        "else:\n",
        "  print(\"Invalid Parenthesis\")"
      ],
      "metadata": {
        "colab": {
          "base_uri": "https://localhost:8080/"
        },
        "id": "y1Bt98-oiaRz",
        "outputId": "e7998f35-a82e-4362-fdf6-ad025ce96400"
      },
      "execution_count": 18,
      "outputs": [
        {
          "output_type": "stream",
          "name": "stdout",
          "text": [
            "Valid Parenthesis\n"
          ]
        }
      ]
    },
    {
      "cell_type": "code",
      "source": [],
      "metadata": {
        "id": "eAGIAdp-r4-c"
      },
      "execution_count": null,
      "outputs": []
    }
  ]
}