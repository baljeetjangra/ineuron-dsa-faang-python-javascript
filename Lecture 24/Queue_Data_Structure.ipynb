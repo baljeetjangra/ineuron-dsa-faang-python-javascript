{
  "nbformat": 4,
  "nbformat_minor": 0,
  "metadata": {
    "colab": {
      "provenance": []
    },
    "kernelspec": {
      "name": "python3",
      "display_name": "Python 3"
    },
    "language_info": {
      "name": "python"
    }
  },
  "cells": [
    {
      "cell_type": "code",
      "execution_count": null,
      "metadata": {
        "id": "lpPRWPaXO6mP"
      },
      "outputs": [],
      "source": [
        "from collections import deque\n",
        "## pop, push, peek, is_empty, size\n",
        "class Stack:\n",
        "  def __init__(self):\n",
        "    self.container = deque()\n",
        "  \n",
        "  ## insert an element inside the stack\n",
        "  def push(self, val):\n",
        "    return self.container.append(val)\n",
        "\n",
        "  ## return the top most element from the stack\n",
        "  def peek(self):\n",
        "    return self.container[-1]\n",
        "\n",
        "  ## check whether the stack is empty or not\n",
        "  def is_Empty(self):\n",
        "    return len(self.container) == 0\n",
        "  \n",
        "  ## check the size of the stack\n",
        "  def size(self):\n",
        "    return len(self.container)\n",
        "  \n",
        "  ## return the top most element from the stack\n",
        "  ## delete an element from the stack\n",
        "  def pop(self):\n",
        "    if self.is_Empty():\n",
        "      return \"Stack is already empty\"\n",
        "    else:\n",
        "      return self.container.pop()"
      ]
    },
    {
      "cell_type": "code",
      "source": [
        "s = Stack()\n",
        "s.push(20)"
      ],
      "metadata": {
        "id": "ngsgk9ZiUvpn"
      },
      "execution_count": null,
      "outputs": []
    },
    {
      "cell_type": "code",
      "source": [
        "s.peek()"
      ],
      "metadata": {
        "colab": {
          "base_uri": "https://localhost:8080/"
        },
        "id": "eSMmpjcrVKrX",
        "outputId": "983b2c30-9a5f-4954-d7d6-47b1cdd8210a"
      },
      "execution_count": null,
      "outputs": [
        {
          "output_type": "execute_result",
          "data": {
            "text/plain": [
              "20"
            ]
          },
          "metadata": {},
          "execution_count": 19
        }
      ]
    },
    {
      "cell_type": "code",
      "source": [
        "s.pop()"
      ],
      "metadata": {
        "colab": {
          "base_uri": "https://localhost:8080/"
        },
        "id": "6pM8DYaTU05W",
        "outputId": "f6c3f38f-c9c3-43d5-e46a-2b2de13671fb"
      },
      "execution_count": null,
      "outputs": [
        {
          "output_type": "execute_result",
          "data": {
            "text/plain": [
              "20"
            ]
          },
          "metadata": {},
          "execution_count": 20
        }
      ]
    },
    {
      "cell_type": "code",
      "source": [
        "s.pop()"
      ],
      "metadata": {
        "colab": {
          "base_uri": "https://localhost:8080/",
          "height": 36
        },
        "id": "6S9ZgyCSU5ko",
        "outputId": "cb80d5db-b720-4d18-9e7c-5e2d5414ba85"
      },
      "execution_count": null,
      "outputs": [
        {
          "output_type": "execute_result",
          "data": {
            "text/plain": [
              "'Stack is already empty'"
            ],
            "application/vnd.google.colaboratory.intrinsic+json": {
              "type": "string"
            }
          },
          "metadata": {},
          "execution_count": 21
        }
      ]
    },
    {
      "cell_type": "markdown",
      "source": [
        "Insertion in Queue Data Structure using list"
      ],
      "metadata": {
        "id": "WrPvmSaDYoNh"
      }
    },
    {
      "cell_type": "markdown",
      "source": [
        "Approach 1 - FIFO"
      ],
      "metadata": {
        "id": "Q0ei4mhzbZwE"
      }
    },
    {
      "cell_type": "code",
      "source": [
        "relianceStock = []\n",
        "relianceStock.insert(0, 147)\n",
        "relianceStock.insert(0, 150)\n",
        "relianceStock.insert(0, 162)"
      ],
      "metadata": {
        "id": "1MO5lGk4V59W"
      },
      "execution_count": null,
      "outputs": []
    },
    {
      "cell_type": "code",
      "source": [
        "relianceStock"
      ],
      "metadata": {
        "colab": {
          "base_uri": "https://localhost:8080/"
        },
        "id": "tCzcGFHzZ6cC",
        "outputId": "d0503fc9-ab0e-4740-c099-ab09ad8bbf95"
      },
      "execution_count": null,
      "outputs": [
        {
          "output_type": "execute_result",
          "data": {
            "text/plain": [
              "[162, 150, 147]"
            ]
          },
          "metadata": {},
          "execution_count": 24
        }
      ]
    },
    {
      "cell_type": "code",
      "source": [
        "relianceStock.pop()"
      ],
      "metadata": {
        "colab": {
          "base_uri": "https://localhost:8080/"
        },
        "id": "8hnyieayaCOB",
        "outputId": "d90bca7f-dd24-4f8a-e27f-956a3fc74b95"
      },
      "execution_count": null,
      "outputs": [
        {
          "output_type": "execute_result",
          "data": {
            "text/plain": [
              "147"
            ]
          },
          "metadata": {},
          "execution_count": 25
        }
      ]
    },
    {
      "cell_type": "markdown",
      "source": [
        "Insertion of Queue Data Structure using deque"
      ],
      "metadata": {
        "id": "pzJhtnaTaRGw"
      }
    },
    {
      "cell_type": "code",
      "source": [
        "from collections import deque\n",
        "queue = deque()"
      ],
      "metadata": {
        "id": "ubln40-8aJNY"
      },
      "execution_count": null,
      "outputs": []
    },
    {
      "cell_type": "code",
      "source": [
        "dir(queue)"
      ],
      "metadata": {
        "colab": {
          "base_uri": "https://localhost:8080/"
        },
        "id": "VUNKrvLpaYEh",
        "outputId": "f95b1e35-e16a-42e3-b701-35703d6bfa7c"
      },
      "execution_count": null,
      "outputs": [
        {
          "output_type": "execute_result",
          "data": {
            "text/plain": [
              "['__add__',\n",
              " '__bool__',\n",
              " '__class__',\n",
              " '__contains__',\n",
              " '__copy__',\n",
              " '__delattr__',\n",
              " '__delitem__',\n",
              " '__dir__',\n",
              " '__doc__',\n",
              " '__eq__',\n",
              " '__format__',\n",
              " '__ge__',\n",
              " '__getattribute__',\n",
              " '__getitem__',\n",
              " '__gt__',\n",
              " '__hash__',\n",
              " '__iadd__',\n",
              " '__imul__',\n",
              " '__init__',\n",
              " '__init_subclass__',\n",
              " '__iter__',\n",
              " '__le__',\n",
              " '__len__',\n",
              " '__lt__',\n",
              " '__mul__',\n",
              " '__ne__',\n",
              " '__new__',\n",
              " '__reduce__',\n",
              " '__reduce_ex__',\n",
              " '__repr__',\n",
              " '__reversed__',\n",
              " '__rmul__',\n",
              " '__setattr__',\n",
              " '__setitem__',\n",
              " '__sizeof__',\n",
              " '__str__',\n",
              " '__subclasshook__',\n",
              " 'append',\n",
              " 'appendleft',\n",
              " 'clear',\n",
              " 'copy',\n",
              " 'count',\n",
              " 'extend',\n",
              " 'extendleft',\n",
              " 'index',\n",
              " 'insert',\n",
              " 'maxlen',\n",
              " 'pop',\n",
              " 'popleft',\n",
              " 'remove',\n",
              " 'reverse',\n",
              " 'rotate']"
            ]
          },
          "metadata": {},
          "execution_count": 27
        }
      ]
    },
    {
      "cell_type": "markdown",
      "source": [
        "Approach 2: FIFO - First In First Out"
      ],
      "metadata": {
        "id": "gkKVCuZ9bUuZ"
      }
    },
    {
      "cell_type": "code",
      "source": [
        "queue.appendleft(5)\n",
        "queue.appendleft(10)\n",
        "queue.appendleft(15)"
      ],
      "metadata": {
        "id": "bLFvnqd8acCJ"
      },
      "execution_count": null,
      "outputs": []
    },
    {
      "cell_type": "code",
      "source": [
        "queue"
      ],
      "metadata": {
        "colab": {
          "base_uri": "https://localhost:8080/"
        },
        "id": "5ZFaEvyja1GY",
        "outputId": "21c4d9e9-53ac-461a-f9e0-599e539105ae"
      },
      "execution_count": null,
      "outputs": [
        {
          "output_type": "execute_result",
          "data": {
            "text/plain": [
              "deque([15, 10, 5])"
            ]
          },
          "metadata": {},
          "execution_count": 29
        }
      ]
    },
    {
      "cell_type": "code",
      "source": [
        "queue.pop()"
      ],
      "metadata": {
        "colab": {
          "base_uri": "https://localhost:8080/"
        },
        "id": "1hDp2eS6a2EA",
        "outputId": "3c70e07e-555c-480b-e182-04b3606eb2da"
      },
      "execution_count": null,
      "outputs": [
        {
          "output_type": "execute_result",
          "data": {
            "text/plain": [
              "5"
            ]
          },
          "metadata": {},
          "execution_count": 30
        }
      ]
    },
    {
      "cell_type": "markdown",
      "source": [
        "Approach 3: FIFO"
      ],
      "metadata": {
        "id": "8AzO2D_xbfWS"
      }
    },
    {
      "cell_type": "code",
      "source": [
        "queue1 = deque()\n",
        "queue1.append(5)\n",
        "queue1.append(10)\n",
        "queue1.append(15)"
      ],
      "metadata": {
        "id": "htMuVT2IbScH"
      },
      "execution_count": null,
      "outputs": []
    },
    {
      "cell_type": "code",
      "source": [
        "queue1"
      ],
      "metadata": {
        "colab": {
          "base_uri": "https://localhost:8080/"
        },
        "id": "er1cYfzjbkjg",
        "outputId": "a516328b-1d63-4fac-8847-ab4d1230e344"
      },
      "execution_count": null,
      "outputs": [
        {
          "output_type": "execute_result",
          "data": {
            "text/plain": [
              "deque([5, 10, 15])"
            ]
          },
          "metadata": {},
          "execution_count": 35
        }
      ]
    },
    {
      "cell_type": "code",
      "source": [
        "queue1.popleft()"
      ],
      "metadata": {
        "colab": {
          "base_uri": "https://localhost:8080/"
        },
        "id": "yV3WUJS6boTn",
        "outputId": "3e9de834-ee3a-4dd3-f4fd-536dcb2ba548"
      },
      "execution_count": null,
      "outputs": [
        {
          "output_type": "execute_result",
          "data": {
            "text/plain": [
              "5"
            ]
          },
          "metadata": {},
          "execution_count": 36
        }
      ]
    },
    {
      "cell_type": "code",
      "source": [
        "from collections import deque\n",
        "class Queue:\n",
        "  def __init__(self):\n",
        "    self.container = deque()\n",
        "\n",
        "  def enqueue(self, val):\n",
        "    ## write your code here\n",
        "    return self.container.appendleft(val)\n",
        "\n",
        "  def dequeue(self):\n",
        "    ## write your code here\n",
        "    return self.container.pop()\n",
        "\n",
        "  def is_Empty(self):\n",
        "    ## write your code here\n",
        "    return len(self.container) == 0\n",
        "  \n",
        "\n",
        "  def size(self):\n",
        "    ## write your code here\n",
        "    return len(self.container)"
      ],
      "metadata": {
        "id": "S6ExA5IMb_r3"
      },
      "execution_count": null,
      "outputs": []
    },
    {
      "cell_type": "code",
      "source": [
        "q = Queue()\n",
        "q.enqueue({\n",
        "    'company':'Reliance',\n",
        "    'timestamp': '05-11-2022, 16:38',\n",
        "    'price': 142.78})\n",
        "q.enqueue({\n",
        "    'company':'Reliance',\n",
        "    'timestamp': '05-11-2022, 17:38',\n",
        "    'price': 150.78})\n",
        "q.enqueue({\n",
        "    'company':'Reliance',\n",
        "    'timestamp': '05-11-2022, 17:42',\n",
        "    'price': 140.78})"
      ],
      "metadata": {
        "id": "E3oW1sv6eMRF"
      },
      "execution_count": null,
      "outputs": []
    },
    {
      "cell_type": "code",
      "source": [
        "q.size()"
      ],
      "metadata": {
        "colab": {
          "base_uri": "https://localhost:8080/"
        },
        "id": "H7XMFkGqe2sm",
        "outputId": "d9b3858a-db9d-4304-e90c-bcd60a365c55"
      },
      "execution_count": null,
      "outputs": [
        {
          "output_type": "execute_result",
          "data": {
            "text/plain": [
              "3"
            ]
          },
          "metadata": {},
          "execution_count": 39
        }
      ]
    },
    {
      "cell_type": "code",
      "source": [
        "q.container"
      ],
      "metadata": {
        "colab": {
          "base_uri": "https://localhost:8080/"
        },
        "id": "I4Nb4mHxe5OW",
        "outputId": "1eba07c0-5540-4824-92f8-6cd8cc9c2375"
      },
      "execution_count": null,
      "outputs": [
        {
          "output_type": "execute_result",
          "data": {
            "text/plain": [
              "deque([{'company': 'Reliance',\n",
              "        'timestamp': '05-11-2022, 17:42',\n",
              "        'price': 140.78},\n",
              "       {'company': 'Reliance',\n",
              "        'timestamp': '05-11-2022, 17:38',\n",
              "        'price': 150.78},\n",
              "       {'company': 'Reliance',\n",
              "        'timestamp': '05-11-2022, 16:38',\n",
              "        'price': 142.78}])"
            ]
          },
          "metadata": {},
          "execution_count": 40
        }
      ]
    },
    {
      "cell_type": "code",
      "source": [
        "q.dequeue()"
      ],
      "metadata": {
        "colab": {
          "base_uri": "https://localhost:8080/"
        },
        "id": "vYovctMrfAaF",
        "outputId": "cde4cb55-f268-484d-b822-01fd50f739ee"
      },
      "execution_count": null,
      "outputs": [
        {
          "output_type": "execute_result",
          "data": {
            "text/plain": [
              "{'company': 'Reliance', 'timestamp': '05-11-2022, 16:38', 'price': 142.78}"
            ]
          },
          "metadata": {},
          "execution_count": 41
        }
      ]
    },
    {
      "cell_type": "code",
      "source": [
        "q.dequeue()"
      ],
      "metadata": {
        "colab": {
          "base_uri": "https://localhost:8080/"
        },
        "id": "VGtpdyWRfD8d",
        "outputId": "ad238d8c-2f2b-4ede-b5c2-0aef89c7bdcf"
      },
      "execution_count": null,
      "outputs": [
        {
          "output_type": "execute_result",
          "data": {
            "text/plain": [
              "{'company': 'Reliance', 'timestamp': '05-11-2022, 17:38', 'price': 150.78}"
            ]
          },
          "metadata": {},
          "execution_count": 42
        }
      ]
    },
    {
      "cell_type": "code",
      "source": [
        "q.dequeue()"
      ],
      "metadata": {
        "colab": {
          "base_uri": "https://localhost:8080/"
        },
        "id": "L6MnBsHlfH5D",
        "outputId": "be589999-44ba-4043-8e6f-5f1ec77fdf9e"
      },
      "execution_count": null,
      "outputs": [
        {
          "output_type": "execute_result",
          "data": {
            "text/plain": [
              "{'company': 'Reliance', 'timestamp': '05-11-2022, 17:42', 'price': 140.78}"
            ]
          },
          "metadata": {},
          "execution_count": 43
        }
      ]
    },
    {
      "cell_type": "code",
      "source": [
        "q.is_Empty()"
      ],
      "metadata": {
        "colab": {
          "base_uri": "https://localhost:8080/"
        },
        "id": "0Uj2HWVUfI5r",
        "outputId": "fdefa017-51c9-4f41-8c55-6dbc896f9a2c"
      },
      "execution_count": null,
      "outputs": [
        {
          "output_type": "execute_result",
          "data": {
            "text/plain": [
              "True"
            ]
          },
          "metadata": {},
          "execution_count": 44
        }
      ]
    },
    {
      "cell_type": "code",
      "source": [
        "listdemo = []\n",
        "listdemo.append(23)"
      ],
      "metadata": {
        "id": "Qg9q5P3RfP5L"
      },
      "execution_count": null,
      "outputs": []
    },
    {
      "cell_type": "code",
      "source": [
        "listdemo"
      ],
      "metadata": {
        "colab": {
          "base_uri": "https://localhost:8080/"
        },
        "id": "TlpSXc5Wh-Oj",
        "outputId": "344bb0a7-20a5-440a-cf77-ac2404036f71"
      },
      "execution_count": null,
      "outputs": [
        {
          "output_type": "execute_result",
          "data": {
            "text/plain": [
              "[23]"
            ]
          },
          "metadata": {},
          "execution_count": 46
        }
      ]
    },
    {
      "cell_type": "code",
      "source": [
        "listdemo.insert(0,29)"
      ],
      "metadata": {
        "id": "2sWymd3sh_Fb"
      },
      "execution_count": null,
      "outputs": []
    },
    {
      "cell_type": "code",
      "source": [
        "listdemo"
      ],
      "metadata": {
        "colab": {
          "base_uri": "https://localhost:8080/"
        },
        "id": "U6glDXRuiCAZ",
        "outputId": "c500497a-68a9-43a6-8b12-648c6aba18f7"
      },
      "execution_count": null,
      "outputs": [
        {
          "output_type": "execute_result",
          "data": {
            "text/plain": [
              "[29, 23]"
            ]
          },
          "metadata": {},
          "execution_count": 49
        }
      ]
    },
    {
      "cell_type": "markdown",
      "source": [
        "Print binary number from 1 to 10 using the Queue.\n",
        "\n",
        "1\n",
        "\n",
        "10\n",
        "\n",
        "11\n",
        "\n",
        "100\n",
        "\n",
        "101\n",
        "\n",
        "110\n",
        "\n",
        "111\n",
        "\n",
        "1000\n",
        "\n",
        "1001\n"
      ],
      "metadata": {
        "id": "pFiHKCHQjGkX"
      }
    },
    {
      "cell_type": "code",
      "source": [
        "from collections import deque\n",
        "\n",
        "class Queue:\n",
        "  def __init__(self):\n",
        "    self.container = deque()\n",
        "\n",
        "  def enqueue(self, val):\n",
        "    ## write your code here\n",
        "    return self.container.appendleft(val)\n",
        "\n",
        "  def dequeue(self):\n",
        "    ## write your code here\n",
        "    return self.container.pop()\n",
        "\n",
        "  def is_Empty(self):\n",
        "    ## write your code here\n",
        "    return len(self.container) == 0\n",
        "  \n",
        "\n",
        "  def size(self):\n",
        "    ## write your code here\n",
        "    return len(self.container)\n",
        "\n",
        "  def front(self):\n",
        "    return self.container[-1]\n",
        "\n",
        "## Method Definition\n",
        "def produceBinaryNum(n):\n",
        "  q = Queue()\n",
        "  q.enqueue(\"1\")\n",
        "\n",
        "  for i in range(n):\n",
        "    front = q.front()\n",
        "    print(front, end = \" \")\n",
        "    q.enqueue(front + \"0\")\n",
        "    q.enqueue(front + \"1\")\n",
        "\n",
        "    q.dequeue()\n",
        "## Driver code\n",
        "n = 10\n",
        "result = produceBinaryNum(n)"
      ],
      "metadata": {
        "colab": {
          "base_uri": "https://localhost:8080/"
        },
        "id": "H9vkoLySiGny",
        "outputId": "97778bdf-a18d-4578-a1fa-3bf7793f6a83"
      },
      "execution_count": null,
      "outputs": [
        {
          "output_type": "stream",
          "name": "stdout",
          "text": [
            "1 10 11 100 101 110 111 1000 1001 1010 "
          ]
        }
      ]
    },
    {
      "cell_type": "code",
      "source": [],
      "metadata": {
        "id": "8xvRdYw_lJpg"
      },
      "execution_count": null,
      "outputs": []
    }
  ]
}