{
  "nbformat": 4,
  "nbformat_minor": 0,
  "metadata": {
    "colab": {
      "provenance": []
    },
    "kernelspec": {
      "name": "python3",
      "display_name": "Python 3"
    },
    "language_info": {
      "name": "python"
    }
  },
  "cells": [
    {
      "cell_type": "markdown",
      "source": [
        "**Implementation of stack using list (Dynamic List)**"
      ],
      "metadata": {
        "id": "w7eibFczhhdt"
      }
    },
    {
      "cell_type": "code",
      "execution_count": null,
      "metadata": {
        "id": "afksxAeNhAAH"
      },
      "outputs": [],
      "source": [
        "stack = []\n",
        "stack.append('https://www.google.com/')\n",
        "stack.append('https://leetcode.com/')\n",
        "stack.append('https://leetcode.com/problemset/all/')\n",
        "stack.append('https://leetcode.com/problems/two-sum/')"
      ]
    },
    {
      "cell_type": "code",
      "source": [
        "stack.pop()"
      ],
      "metadata": {
        "colab": {
          "base_uri": "https://localhost:8080/",
          "height": 36
        },
        "id": "Oh3nmz87hU6K",
        "outputId": "88796ccb-3182-4beb-9aec-87cbe8b2ca22"
      },
      "execution_count": null,
      "outputs": [
        {
          "output_type": "execute_result",
          "data": {
            "text/plain": [
              "'https://leetcode.com/problems/two-sum/'"
            ],
            "application/vnd.google.colaboratory.intrinsic+json": {
              "type": "string"
            }
          },
          "metadata": {},
          "execution_count": 2
        }
      ]
    },
    {
      "cell_type": "code",
      "source": [
        "stack"
      ],
      "metadata": {
        "colab": {
          "base_uri": "https://localhost:8080/"
        },
        "id": "b1t9wBAZhcRD",
        "outputId": "cbf8dadc-0270-4cdc-b9b7-d4c32a681b92"
      },
      "execution_count": null,
      "outputs": [
        {
          "output_type": "execute_result",
          "data": {
            "text/plain": [
              "['https://www.google.com/',\n",
              " 'https://leetcode.com/',\n",
              " 'https://leetcode.com/problemset/all/']"
            ]
          },
          "metadata": {},
          "execution_count": 3
        }
      ]
    },
    {
      "cell_type": "markdown",
      "source": [
        "**Implementation of stack using deque**"
      ],
      "metadata": {
        "id": "ZT0J4CjBiBEY"
      }
    },
    {
      "cell_type": "code",
      "source": [
        "from collections import deque\n",
        "stack = deque()"
      ],
      "metadata": {
        "id": "zOUhFkBohd08"
      },
      "execution_count": null,
      "outputs": []
    },
    {
      "cell_type": "code",
      "source": [
        "dir(stack)"
      ],
      "metadata": {
        "colab": {
          "base_uri": "https://localhost:8080/"
        },
        "id": "VU4Yo64QiKxd",
        "outputId": "2dfb6665-0532-42c9-caf4-0446b9ef24d8"
      },
      "execution_count": null,
      "outputs": [
        {
          "output_type": "execute_result",
          "data": {
            "text/plain": [
              "['__add__',\n",
              " '__bool__',\n",
              " '__class__',\n",
              " '__contains__',\n",
              " '__copy__',\n",
              " '__delattr__',\n",
              " '__delitem__',\n",
              " '__dir__',\n",
              " '__doc__',\n",
              " '__eq__',\n",
              " '__format__',\n",
              " '__ge__',\n",
              " '__getattribute__',\n",
              " '__getitem__',\n",
              " '__gt__',\n",
              " '__hash__',\n",
              " '__iadd__',\n",
              " '__imul__',\n",
              " '__init__',\n",
              " '__init_subclass__',\n",
              " '__iter__',\n",
              " '__le__',\n",
              " '__len__',\n",
              " '__lt__',\n",
              " '__mul__',\n",
              " '__ne__',\n",
              " '__new__',\n",
              " '__reduce__',\n",
              " '__reduce_ex__',\n",
              " '__repr__',\n",
              " '__reversed__',\n",
              " '__rmul__',\n",
              " '__setattr__',\n",
              " '__setitem__',\n",
              " '__sizeof__',\n",
              " '__str__',\n",
              " '__subclasshook__',\n",
              " 'append',\n",
              " 'appendleft',\n",
              " 'clear',\n",
              " 'copy',\n",
              " 'count',\n",
              " 'extend',\n",
              " 'extendleft',\n",
              " 'index',\n",
              " 'insert',\n",
              " 'maxlen',\n",
              " 'pop',\n",
              " 'popleft',\n",
              " 'remove',\n",
              " 'reverse',\n",
              " 'rotate']"
            ]
          },
          "metadata": {},
          "execution_count": 5
        }
      ]
    },
    {
      "cell_type": "code",
      "source": [
        "stack.append('https://www.google.com/')\n",
        "stack.append('https://leetcode.com/')\n",
        "stack.append('https://leetcode.com/problemset/all/')\n",
        "stack.append('https://leetcode.com/problems/two-sum/')"
      ],
      "metadata": {
        "id": "ld1OtwC1iNZU"
      },
      "execution_count": null,
      "outputs": []
    },
    {
      "cell_type": "code",
      "source": [
        "stack"
      ],
      "metadata": {
        "colab": {
          "base_uri": "https://localhost:8080/"
        },
        "id": "CurlxJFkiWjj",
        "outputId": "6defc52d-92dc-4f36-89c7-1d11b8783b2c"
      },
      "execution_count": null,
      "outputs": [
        {
          "output_type": "execute_result",
          "data": {
            "text/plain": [
              "deque(['https://www.google.com/',\n",
              "       'https://leetcode.com/',\n",
              "       'https://leetcode.com/problemset/all/',\n",
              "       'https://leetcode.com/problems/two-sum/'])"
            ]
          },
          "metadata": {},
          "execution_count": 7
        }
      ]
    },
    {
      "cell_type": "code",
      "source": [
        "stack.pop()"
      ],
      "metadata": {
        "colab": {
          "base_uri": "https://localhost:8080/",
          "height": 36
        },
        "id": "TuaPjs0ViXiD",
        "outputId": "50839288-acc7-48e7-c277-160c01cf7d08"
      },
      "execution_count": null,
      "outputs": [
        {
          "output_type": "execute_result",
          "data": {
            "text/plain": [
              "'https://leetcode.com/problems/two-sum/'"
            ],
            "application/vnd.google.colaboratory.intrinsic+json": {
              "type": "string"
            }
          },
          "metadata": {},
          "execution_count": 8
        }
      ]
    },
    {
      "cell_type": "markdown",
      "source": [
        "Interview Question: Given a string s contains just the characters '(', ')', '{', '}', '[', ']', determine if the input string is valid.\n",
        "\n",
        "{[]} - valid\n",
        "\n",
        "[}] - invalid"
      ],
      "metadata": {
        "id": "GDyuFzorm4fH"
      }
    },
    {
      "cell_type": "code",
      "source": [
        "## Method definition\n",
        "def isValid(string):\n",
        "  ## write your code here\n",
        "  ## bracketMapping[\"(\"] = \")\"\n",
        "  ## bracketMapping[\"[\"] = \"]\"\n",
        "  ## bracketMapping[\"{\"] = \"}\"\n",
        "  ## stack[-1] = topmost element in your stack\n",
        "  bracketMapping = {\"(\":\")\", \"[\":\"]\", \"{\":\"}\"}\n",
        "  openParams = [\"(\", \"[\", \"{\"]\n",
        "  stack = []\n",
        "\n",
        "  for s in string:\n",
        "    if s in openParams:\n",
        "      stack.append(s)\n",
        "    elif stack and s == bracketMapping[stack[-1]]:\n",
        "      stack.pop()\n",
        "    else:\n",
        "      return False\n",
        "  return stack == []\n",
        "\n",
        "\n",
        "## Driver code\n",
        "string = \"(){}\"\n",
        "if isValid(string):\n",
        "  print(\"Valid Parenthesis\")\n",
        "else:\n",
        "  print(\"Invalid Parenthesis\")"
      ],
      "metadata": {
        "colab": {
          "base_uri": "https://localhost:8080/"
        },
        "id": "y1Bt98-oiaRz",
        "outputId": "e7998f35-a82e-4362-fdf6-ad025ce96400"
      },
      "execution_count": null,
      "outputs": [
        {
          "output_type": "stream",
          "name": "stdout",
          "text": [
            "Valid Parenthesis\n"
          ]
        }
      ]
    },
    {
      "cell_type": "code",
      "source": [
        "from collections import deque\n",
        "## pop, push, peek, is_empty, size\n",
        "class Stack:\n",
        "  def __init__(self):\n",
        "    self.container = deque()\n",
        "  \n",
        "  ## insert an element inside the stack\n",
        "  def push(self, val):\n",
        "    return self.container.append(val)\n",
        "\n",
        "  ## return the top most element from the stack\n",
        "  def peek(self):\n",
        "    return self.container[-1]\n",
        "\n",
        "  ## check whether the stack is empty or not\n",
        "  def is_Empty(self):\n",
        "    return len(self.container) == 0\n",
        "  \n",
        "  ## check the size of the stack\n",
        "  def size(self):\n",
        "    return len(self.container)\n",
        "  \n",
        "  ## return the top most element from the stack\n",
        "  ## delete an element from the stack\n",
        "  def pop(self):\n",
        "    if self.is_Empty():\n",
        "      #print(\"Priya\")\n",
        "      return \"Stack is already empty\"\n",
        "    else:\n",
        "      return self.container.pop()"
      ],
      "metadata": {
        "id": "7GIkFirHxxgJ"
      },
      "execution_count": null,
      "outputs": []
    },
    {
      "cell_type": "code",
      "source": [
        "## create an object of stack class\n",
        "s = Stack()\n",
        "s.push(5)\n",
        "s.push(10)\n",
        "s.push(15)\n",
        "s.push(20)"
      ],
      "metadata": {
        "id": "MPuFFGU2Pv4Y"
      },
      "execution_count": null,
      "outputs": []
    },
    {
      "cell_type": "code",
      "source": [
        "## check the topmost element in stack\n",
        "s.peek()"
      ],
      "metadata": {
        "colab": {
          "base_uri": "https://localhost:8080/"
        },
        "id": "IvMmGX0iSOlp",
        "outputId": "99d63870-19e8-49a2-c267-8f5244ec2b3a"
      },
      "execution_count": null,
      "outputs": [
        {
          "output_type": "execute_result",
          "data": {
            "text/plain": [
              "20"
            ]
          },
          "metadata": {},
          "execution_count": 28
        }
      ]
    },
    {
      "cell_type": "code",
      "source": [
        "## delete the topmost element in stack\n",
        "s.pop()"
      ],
      "metadata": {
        "colab": {
          "base_uri": "https://localhost:8080/"
        },
        "id": "QOojp41gSVup",
        "outputId": "7ec253be-4381-4e47-861c-1ddbf2785670"
      },
      "execution_count": null,
      "outputs": [
        {
          "output_type": "execute_result",
          "data": {
            "text/plain": [
              "20"
            ]
          },
          "metadata": {},
          "execution_count": 29
        }
      ]
    },
    {
      "cell_type": "code",
      "source": [
        "s.peek()"
      ],
      "metadata": {
        "colab": {
          "base_uri": "https://localhost:8080/"
        },
        "id": "VD4qkiuDSevI",
        "outputId": "3a950ecb-56c0-41e7-a388-bb7fb398359f"
      },
      "execution_count": null,
      "outputs": [
        {
          "output_type": "execute_result",
          "data": {
            "text/plain": [
              "15"
            ]
          },
          "metadata": {},
          "execution_count": 30
        }
      ]
    },
    {
      "cell_type": "code",
      "source": [
        "s.size()"
      ],
      "metadata": {
        "colab": {
          "base_uri": "https://localhost:8080/"
        },
        "id": "pFYFsxfSSn7Y",
        "outputId": "d2d8f712-d38e-4c14-ff1e-07092b05b118"
      },
      "execution_count": null,
      "outputs": [
        {
          "output_type": "execute_result",
          "data": {
            "text/plain": [
              "3"
            ]
          },
          "metadata": {},
          "execution_count": 31
        }
      ]
    },
    {
      "cell_type": "code",
      "source": [
        "s.is_Empty()"
      ],
      "metadata": {
        "colab": {
          "base_uri": "https://localhost:8080/"
        },
        "id": "Z5x0PyMmSqkv",
        "outputId": "d2d710db-0e51-4073-c199-dc867fe608e8"
      },
      "execution_count": null,
      "outputs": [
        {
          "output_type": "execute_result",
          "data": {
            "text/plain": [
              "False"
            ]
          },
          "metadata": {},
          "execution_count": 32
        }
      ]
    },
    {
      "cell_type": "code",
      "source": [
        "s.pop()"
      ],
      "metadata": {
        "colab": {
          "base_uri": "https://localhost:8080/"
        },
        "id": "aMNgWaprSwSw",
        "outputId": "2aac3177-86f3-46c5-bc1f-62909909cb80"
      },
      "execution_count": null,
      "outputs": [
        {
          "output_type": "execute_result",
          "data": {
            "text/plain": [
              "15"
            ]
          },
          "metadata": {},
          "execution_count": 33
        }
      ]
    },
    {
      "cell_type": "code",
      "source": [
        "s.pop()"
      ],
      "metadata": {
        "colab": {
          "base_uri": "https://localhost:8080/"
        },
        "id": "eBKcpq9ITdDg",
        "outputId": "102ad7a9-106c-4abb-bece-c69fe1d10566"
      },
      "execution_count": null,
      "outputs": [
        {
          "output_type": "execute_result",
          "data": {
            "text/plain": [
              "10"
            ]
          },
          "metadata": {},
          "execution_count": 34
        }
      ]
    },
    {
      "cell_type": "code",
      "source": [
        "s.pop()"
      ],
      "metadata": {
        "colab": {
          "base_uri": "https://localhost:8080/"
        },
        "id": "DgcjPi0yTenX",
        "outputId": "472c475b-9cb7-4cd2-c654-f82a57c3f1fa"
      },
      "execution_count": null,
      "outputs": [
        {
          "output_type": "execute_result",
          "data": {
            "text/plain": [
              "5"
            ]
          },
          "metadata": {},
          "execution_count": 35
        }
      ]
    },
    {
      "cell_type": "code",
      "source": [
        "s.size()"
      ],
      "metadata": {
        "colab": {
          "base_uri": "https://localhost:8080/"
        },
        "id": "eYewkYLGTfw2",
        "outputId": "46c015af-3d12-48de-e56a-fa06fe9c6a51"
      },
      "execution_count": null,
      "outputs": [
        {
          "output_type": "execute_result",
          "data": {
            "text/plain": [
              "0"
            ]
          },
          "metadata": {},
          "execution_count": 36
        }
      ]
    },
    {
      "cell_type": "code",
      "source": [
        "s.push(2)"
      ],
      "metadata": {
        "id": "PQE3ZPGRThQn"
      },
      "execution_count": null,
      "outputs": []
    },
    {
      "cell_type": "code",
      "source": [
        "s.peek()"
      ],
      "metadata": {
        "colab": {
          "base_uri": "https://localhost:8080/"
        },
        "id": "HpHkMamBTjTA",
        "outputId": "2997787c-50f7-4704-aee8-03c1657bb8b6"
      },
      "execution_count": null,
      "outputs": [
        {
          "output_type": "execute_result",
          "data": {
            "text/plain": [
              "2"
            ]
          },
          "metadata": {},
          "execution_count": 38
        }
      ]
    },
    {
      "cell_type": "code",
      "source": [
        "s.pop()"
      ],
      "metadata": {
        "colab": {
          "base_uri": "https://localhost:8080/"
        },
        "id": "C_uJgyubTkq3",
        "outputId": "71da5d1c-586a-4112-b05e-95efb2e87dca"
      },
      "execution_count": null,
      "outputs": [
        {
          "output_type": "execute_result",
          "data": {
            "text/plain": [
              "2"
            ]
          },
          "metadata": {},
          "execution_count": 39
        }
      ]
    },
    {
      "cell_type": "code",
      "source": [
        "s.pop()"
      ],
      "metadata": {
        "colab": {
          "base_uri": "https://localhost:8080/",
          "height": 36
        },
        "id": "BRKfNMoOULBH",
        "outputId": "7447b34d-cdf4-4312-b36a-e49c248f1a87"
      },
      "execution_count": null,
      "outputs": [
        {
          "output_type": "execute_result",
          "data": {
            "text/plain": [
              "'Stack is already empty'"
            ],
            "application/vnd.google.colaboratory.intrinsic+json": {
              "type": "string"
            }
          },
          "metadata": {},
          "execution_count": 40
        }
      ]
    },
    {
      "cell_type": "code",
      "source": [],
      "metadata": {
        "id": "xktUi_L9UMTG"
      },
      "execution_count": null,
      "outputs": []
    }
  ]
}