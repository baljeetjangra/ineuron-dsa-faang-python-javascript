{
 "cells": [
  {
   "cell_type": "code",
   "execution_count": 1,
   "id": "69ff2e26",
   "metadata": {},
   "outputs": [
    {
     "name": "stdout",
     "output_type": "stream",
     "text": [
      "Sorted array after applying the insertion sort: [75, 80, 85, 90, 95, 100]\n"
     ]
    }
   ],
   "source": [
    "## Implementation of Insertion Sort\n",
    "## Time Complexity: O(n^2)\n",
    "def insertion_sort(arr):\n",
    "    for i in range(1, len(arr)):\n",
    "        j = i-1\n",
    "        key = arr[i]\n",
    "        \n",
    "        while j>=0 and arr[j] > key:\n",
    "            arr[j+1] = arr[j]\n",
    "            j -= 1\n",
    "        arr[j+1] = key\n",
    "    return arr\n",
    "\n",
    "\n",
    "## Driver code\n",
    "arr = [75, 90, 100, 95, 85, 80]\n",
    "result = insertion_sort(arr)\n",
    "print(\"Sorted array after applying the insertion sort:\", result)"
   ]
  },
  {
   "cell_type": "code",
   "execution_count": null,
   "id": "90d57899",
   "metadata": {},
   "outputs": [],
   "source": []
  }
 ],
 "metadata": {
  "kernelspec": {
   "display_name": "Python 3 (ipykernel)",
   "language": "python",
   "name": "python3"
  },
  "language_info": {
   "codemirror_mode": {
    "name": "ipython",
    "version": 3
   },
   "file_extension": ".py",
   "mimetype": "text/x-python",
   "name": "python",
   "nbconvert_exporter": "python",
   "pygments_lexer": "ipython3",
   "version": "3.9.12"
  }
 },
 "nbformat": 4,
 "nbformat_minor": 5
}
