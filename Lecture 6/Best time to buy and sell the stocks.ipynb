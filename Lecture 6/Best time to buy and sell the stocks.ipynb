{
 "cells": [
  {
   "cell_type": "code",
   "execution_count": 3,
   "id": "526e209d",
   "metadata": {},
   "outputs": [
    {
     "name": "stdout",
     "output_type": "stream",
     "text": [
      "The maximum profit of buying and selling the stocks is: 13\n"
     ]
    }
   ],
   "source": [
    "## function definition\n",
    "## time complexity: O(n)\n",
    "\n",
    "def findmaxProfit(price):\n",
    "    ## intialization\n",
    "    minPrice = float('inf')\n",
    "    maxProfit = 0\n",
    "    \n",
    "    for i in range(len(price)):\n",
    "        if price[i] < minPrice:\n",
    "            minPrice = price[i]\n",
    "        elif price[i] - minPrice > maxProfit:\n",
    "            maxProfit = price[i] - minPrice\n",
    "    return maxProfit\n",
    "\n",
    "\n",
    "## Driver code\n",
    "price = [7,4,5,3,6,16]\n",
    "maxProfit_value = findmaxProfit(price)\n",
    "print(\"The maximum profit of buying and selling the stocks is:\", maxProfit_value)"
   ]
  },
  {
   "cell_type": "code",
   "execution_count": null,
   "id": "f061c941",
   "metadata": {},
   "outputs": [],
   "source": []
  }
 ],
 "metadata": {
  "kernelspec": {
   "display_name": "Python 3 (ipykernel)",
   "language": "python",
   "name": "python3"
  },
  "language_info": {
   "codemirror_mode": {
    "name": "ipython",
    "version": 3
   },
   "file_extension": ".py",
   "mimetype": "text/x-python",
   "name": "python",
   "nbconvert_exporter": "python",
   "pygments_lexer": "ipython3",
   "version": "3.9.12"
  }
 },
 "nbformat": 4,
 "nbformat_minor": 5
}
