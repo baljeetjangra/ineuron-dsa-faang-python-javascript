{
 "cells": [
  {
   "cell_type": "code",
   "execution_count": 3,
   "id": "e69508d4",
   "metadata": {},
   "outputs": [
    {
     "name": "stdout",
     "output_type": "stream",
     "text": [
      "Searching element is present at index: -1\n"
     ]
    }
   ],
   "source": [
    "## Linear Search Algorithm\n",
    "## function definition\n",
    "## time complexity: O(n)\n",
    "## space complexity: O(1)\n",
    "\n",
    "def linearSearch(arr, x):\n",
    "    for i in range(len(arr)):\n",
    "        if arr[i] == x:\n",
    "            return i\n",
    "    return -1\n",
    "    \n",
    "## Driver code\n",
    "arr = [20, 45, 27, 47, 55, 67, 75, 88, 90]\n",
    "x = 65\n",
    "## function calling\n",
    "result = linearSearch(arr, x)\n",
    "print(\"Searching element is present at index:\",result)"
   ]
  },
  {
   "cell_type": "code",
   "execution_count": 5,
   "id": "2f4d934d",
   "metadata": {},
   "outputs": [
    {
     "name": "stdout",
     "output_type": "stream",
     "text": [
      "Searching element is present at the location: 6\n"
     ]
    }
   ],
   "source": [
    "## Binary Search Algorithm using recursion\n",
    "## function definition\n",
    "def binarySearch(arr, x, i, j):\n",
    "    while i <= j:\n",
    "        mid = i + (j-i)//2\n",
    "        if arr[mid] == x:\n",
    "            return mid\n",
    "        elif arr[mid] < x:\n",
    "            ## right side of the mid\n",
    "            ## seach space - mid+1 to j\n",
    "            ## recursion - calling the same function again inside the \n",
    "            ## method definition\n",
    "            return binarySearch(arr, x, mid+1, j)\n",
    "        else:\n",
    "            ## left side of the mid\n",
    "            ## search space - i to mid-1\n",
    "            return binarySearch(arr, x, i, mid-1)\n",
    "    ## searching element is not present in an array\n",
    "    return -1\n",
    "\n",
    "## Driver code\n",
    "arr = [20, 30, 40, 50, 60, 70, 80, 90]\n",
    "x = 80\n",
    "i = 0\n",
    "j = len(arr) - 1\n",
    "## function calling\n",
    "result = binarySearch(arr, x, i, j)\n",
    "print(\"Searching element is present at the location:\",result)"
   ]
  },
  {
   "cell_type": "code",
   "execution_count": 9,
   "id": "492b3beb",
   "metadata": {},
   "outputs": [
    {
     "name": "stdout",
     "output_type": "stream",
     "text": [
      "Searching element is present at the location: 0\n"
     ]
    }
   ],
   "source": [
    "## Binary Search Algorithm without using recursion(iterative)\n",
    "## function definition\n",
    "def binarySearch(arr, x, i, j):\n",
    "    while i <= j:\n",
    "        ## lower bound while division\n",
    "        mid = i + (j-i)//2\n",
    "        if arr[mid] == x:\n",
    "            return mid\n",
    "        elif arr[mid] < x:\n",
    "            ## right side of the mid\n",
    "            ## seach space - mid+1 to j\n",
    "            i = mid + 1\n",
    "            ## arr[mid] > x:\n",
    "        else:\n",
    "            ## left side of the mid\n",
    "            ## search space - i to mid-1\n",
    "            j = mid - 1\n",
    "    ## searching element is not present in an array\n",
    "    return -1\n",
    "\n",
    "## Driver code\n",
    "arr = [20, 30, 40, 50, 60, 70, 80, 90]\n",
    "x = 20\n",
    "i = 0\n",
    "j = len(arr) - 1\n",
    "## function calling\n",
    "result = binarySearch(arr, x, i, j)\n",
    "print(\"Searching element is present at the location:\",result)"
   ]
  },
  {
   "cell_type": "code",
   "execution_count": null,
   "id": "1ab165ae",
   "metadata": {},
   "outputs": [],
   "source": []
  }
 ],
 "metadata": {
  "kernelspec": {
   "display_name": "Python 3 (ipykernel)",
   "language": "python",
   "name": "python3"
  },
  "language_info": {
   "codemirror_mode": {
    "name": "ipython",
    "version": 3
   },
   "file_extension": ".py",
   "mimetype": "text/x-python",
   "name": "python",
   "nbconvert_exporter": "python",
   "pygments_lexer": "ipython3",
   "version": "3.9.12"
  }
 },
 "nbformat": 4,
 "nbformat_minor": 5
}
