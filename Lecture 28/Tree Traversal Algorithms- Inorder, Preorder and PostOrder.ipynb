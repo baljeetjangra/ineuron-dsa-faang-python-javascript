{
 "cells": [
  {
   "cell_type": "code",
   "execution_count": 10,
   "id": "e46c402f",
   "metadata": {},
   "outputs": [
    {
     "name": "stdout",
     "output_type": "stream",
     "text": [
      "Inorder Traversal\n",
      "4  2  5  1  3  \n",
      "Preorder Traversal\n",
      "1  2  4  5  3  \n",
      "PostOrder Traversal\n",
      "4  5  2  3  1  "
     ]
    }
   ],
   "source": [
    "## Tree Traversal Algorithms Implementation: Inorder, Preorder and Postorder\n",
    "## For every case, the overall time complexity : O(n)\n",
    "## Practice Task: Do all the traversal algorithms implementation without recursion.\n",
    "class Node:\n",
    "    def __init__(self, data):\n",
    "        self.left = None\n",
    "        self.right = None\n",
    "        self.data = data\n",
    "\n",
    "\n",
    "## function definition of inOrder Traversal\n",
    "def inOrder(root):\n",
    "    if root:\n",
    "        ## recursive call for the left subtree\n",
    "        inOrder(root.left)\n",
    "        print(str(root.data)+ \" \", end=' ')\n",
    "        ## recursive call for the right subtree\n",
    "        inOrder(root.right)\n",
    "\n",
    "\n",
    "## function definition of preOrder Traversal\n",
    "def preOrder(root):\n",
    "    if root:\n",
    "        print(str(root.data)+\" \", end=' ')\n",
    "        ## recursive call for the left subtree\n",
    "        preOrder(root.left)\n",
    "        ## recursive call for the right subtree\n",
    "        preOrder(root.right)\n",
    "        \n",
    "## function definition of postOrder Traversal\n",
    "def postOrder(root):\n",
    "    if root:\n",
    "        ## recursive call for the left subtree\n",
    "        postOrder(root.left)\n",
    "        ## recursive call for the right subtree\n",
    "        postOrder(root.right)\n",
    "        print(str(root.data)+\" \", end=' ')\n",
    "\n",
    "## Driver code\n",
    "root = Node(1)\n",
    "root.left = Node(2)\n",
    "root.right = Node(3)\n",
    "root.left.left = Node(4)\n",
    "root.left.right = Node(5)\n",
    "print(\"Inorder Traversal\")\n",
    "## function calling\n",
    "inOrder(root)\n",
    "print()\n",
    "print(\"Preorder Traversal\")\n",
    "preOrder(root)\n",
    "print()\n",
    "print(\"PostOrder Traversal\")\n",
    "postOrder(root)"
   ]
  },
  {
   "cell_type": "code",
   "execution_count": null,
   "id": "283bcfcd",
   "metadata": {},
   "outputs": [],
   "source": []
  }
 ],
 "metadata": {
  "kernelspec": {
   "display_name": "Python 3 (ipykernel)",
   "language": "python",
   "name": "python3"
  },
  "language_info": {
   "codemirror_mode": {
    "name": "ipython",
    "version": 3
   },
   "file_extension": ".py",
   "mimetype": "text/x-python",
   "name": "python",
   "nbconvert_exporter": "python",
   "pygments_lexer": "ipython3",
   "version": "3.9.12"
  }
 },
 "nbformat": 4,
 "nbformat_minor": 5
}
