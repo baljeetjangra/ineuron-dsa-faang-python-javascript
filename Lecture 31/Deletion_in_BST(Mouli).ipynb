{
  "cells": [
    {
      "cell_type": "code",
      "execution_count": 1,
      "id": "5d45d37b",
      "metadata": {
        "colab": {
          "base_uri": "https://localhost:8080/"
        },
        "id": "5d45d37b",
        "outputId": "f936d2b7-a643-4797-c123-aab536088892"
      },
      "outputs": [
        {
          "output_type": "stream",
          "name": "stdout",
          "text": [
            "Inorder Traversal of the tree:\n",
            "20  25  28  30  35  45  46  \n",
            "After deleting the Node:\n",
            "20  25  28  35  45  46  "
          ]
        }
      ],
      "source": [
        "## Binary Search Tree implementation with inorder traversal and deletion \n",
        "## Best/ average case scenario: O(log n)\n",
        "## Worst case scenario: O(n)\n",
        "class Node:\n",
        "    def __init__(self, data):\n",
        "        self.data = data\n",
        "        self.left = None\n",
        "        self.right = None\n",
        "        \n",
        "def insertionBST(root, key):\n",
        "    if root is None:\n",
        "        return Node(key)\n",
        "    else:\n",
        "        if root.data == key:\n",
        "            return root\n",
        "        elif root.data < key :\n",
        "            root.right = insertionBST(root.right, key)\n",
        "        else:\n",
        "            root.left = insertionBST(root.left, key)\n",
        "    return root\n",
        "    \n",
        "def inorder(root):\n",
        "    if root:\n",
        "        inorder(root.left)\n",
        "        print(str(root.data)+ \" \", end=\" \")\n",
        "        inorder(root.right)\n",
        "        \n",
        "def search(root, ele):\n",
        "    if root:\n",
        "        if root.data == ele:\n",
        "            return True\n",
        "    if root.data < ele:\n",
        "        return search(root.right, ele)\n",
        "    else:\n",
        "        return search(root.left, ele)\n",
        "    \n",
        "def minnode(node):\n",
        "    present = node\n",
        "    while present.left is not None:\n",
        "        present = present.left\n",
        "    return present\n",
        "\n",
        "\n",
        "def delete(root, ele):\n",
        "  ## base case condition\n",
        "    if root is None:\n",
        "        return root\n",
        "    ## searching of an element\n",
        "    if root.data < ele:\n",
        "      ## recursion towards right subtree\n",
        "        root.right =  delete(root.right, ele)\n",
        "    elif root.data > ele:\n",
        "      ## recursion towards left subtree\n",
        "        root.left = delete(root.left, ele)\n",
        "    else:\n",
        "        # If there is only one child \n",
        "        if root.left is None:\n",
        "            return root.right\n",
        "        if root.right is None:\n",
        "            return root.left\n",
        "        \n",
        "        # Find the minimum in the right subtree, which is the successor of\n",
        "        # present rootnode\n",
        "        tempnode = minnode(root.right)\n",
        "        root.data = tempnode.data\n",
        "        root.right = delete(root.right, tempnode.data)\n",
        "    return root\n",
        "        \n",
        "                   \n",
        "if __name__==\"__main__\":\n",
        "    root = Node(30)\n",
        "    root = insertionBST(root,28)\n",
        "    root = insertionBST(root,45)\n",
        "    root = insertionBST(root,20)\n",
        "    root = insertionBST(root,25)\n",
        "    root = insertionBST(root,35)\n",
        "    root = insertionBST(root,46)\n",
        "    print(\"Inorder Traversal of the tree:\")\n",
        "    inorder(root)\n",
        "    print()\n",
        "    deletenode = delete(root, 30)\n",
        "    print(\"After deleting the Node:\")\n",
        "    inorder(root)"
      ]
    },
    {
      "cell_type": "markdown",
      "source": [
        "Language: Typescript (Ankan)"
      ],
      "metadata": {
        "id": "HB00L3B8dNjR"
      },
      "id": "HB00L3B8dNjR"
    },
    {
      "cell_type": "code",
      "execution_count": null,
      "id": "2795757b",
      "metadata": {
        "id": "2795757b"
      },
      "outputs": [],
      "source": [
        "/**\n",
        " * Definition for a binary tree node.\n",
        " * class TreeNode {\n",
        " *     val: number\n",
        " *     left: TreeNode | null\n",
        " *     right: TreeNode | null\n",
        " *     constructor(val?: number, left?: TreeNode | null, right?: TreeNode | null) {\n",
        " *         this.val = (val===undefined ? 0 : val)\n",
        " *         this.left = (left===undefined ? null : left)\n",
        " *         this.right = (right===undefined ? null : right)\n",
        " *     }\n",
        " * }\n",
        " */\n",
        "\n",
        "function deleteNode(root: TreeNode | null, val: number): TreeNode | null {\n",
        "    if(!root) return root;\n",
        "\n",
        "    // * Now if the value of root is greater than the value passed we search towards the left & assign the returned value to root.left. Else we searchthe right side & assign the value to root.right .\n",
        "    if(root.val > val) root.left = deleteNode(root.left , val);\n",
        "    else if(root.val < val) root.right = deleteNode(root.right, val);\n",
        "\n",
        "    // * Finally if root.val == val\n",
        "    else {\n",
        "        // * If the node is a leaf node then we simply return null.\n",
        "        if(!root.left && !root.right) return null;\n",
        "        // * Now if it has only one child then we can return that child, & the replace the current node.\n",
        "        else if(!root.left) return root.right\n",
        "        else if(!root.right) return root.left;\n",
        "\n",
        "        // * If it has both the children, then we find either the max on the left subtree(Inorder Predecessor) ot the min on right subtree(Inorder Successor). Then we simple delete that node and replace current node's value with the deleted node's value. Here we are following the Inorder Predecessor. Finally we return the current node.\n",
        "        else {\n",
        "            const maxOnLeft = findMaxLeftOrInOrderPredecessor(root.left);\n",
        "            root.val = maxOnLeft;\n",
        "            root.left = deleteNode(root.left, maxOnLeft);\n",
        "            return root;\n",
        "        }\n",
        "    }\n",
        "\n",
        "    return root;\n",
        "};\n",
        "\n",
        "// * This function finds the max in the left subtree.\n",
        "const findMaxLeftOrInOrderPredecessor = (root: TreeNode): number => {\n",
        "    if(!root.right) return root.val;\n",
        "    return findMaxLeftOrInOrderPredecessor(root.right);\n",
        "}"
      ]
    }
  ],
  "metadata": {
    "kernelspec": {
      "display_name": "Python 3 (ipykernel)",
      "language": "python",
      "name": "python3"
    },
    "language_info": {
      "codemirror_mode": {
        "name": "ipython",
        "version": 3
      },
      "file_extension": ".py",
      "mimetype": "text/x-python",
      "name": "python",
      "nbconvert_exporter": "python",
      "pygments_lexer": "ipython3",
      "version": "3.9.7"
    },
    "colab": {
      "provenance": []
    }
  },
  "nbformat": 4,
  "nbformat_minor": 5
}