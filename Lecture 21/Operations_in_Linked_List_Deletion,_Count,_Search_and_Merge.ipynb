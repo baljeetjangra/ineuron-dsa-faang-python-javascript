{
  "nbformat": 4,
  "nbformat_minor": 0,
  "metadata": {
    "colab": {
      "provenance": []
    },
    "kernelspec": {
      "name": "python3",
      "display_name": "Python 3"
    },
    "language_info": {
      "name": "python"
    }
  },
  "cells": [
    {
      "cell_type": "markdown",
      "source": [
        "**1. Deletion of a node in a Linked List**"
      ],
      "metadata": {
        "id": "BTjKbUL8SAEx"
      }
    },
    {
      "cell_type": "markdown",
      "source": [
        "Time Complexity(Worst Case - End) : O(n)\n",
        "\n",
        "Time Complexity(Best Case - Beginning) : O(1)"
      ],
      "metadata": {
        "id": "3eN6ttBbaunz"
      }
    },
    {
      "cell_type": "code",
      "execution_count": 6,
      "metadata": {
        "colab": {
          "base_uri": "https://localhost:8080/"
        },
        "id": "wajMiaIxNHfh",
        "outputId": "13439fa4-d55e-47fa-c9a1-e46b5544007f"
      },
      "outputs": [
        {
          "output_type": "stream",
          "name": "stdout",
          "text": [
            "Insertion of nodes at the end of the Linked List:\n",
            "10  20  30  40  50  \n",
            "Deletion of a node in the given Linked List:\n",
            "10  20  30  50  \n",
            "10  20  50  \n",
            "10  50  \n",
            "10  \n"
          ]
        }
      ],
      "source": [
        "class Node:\n",
        "  def __init__(self, data):\n",
        "    self.data = data\n",
        "    self.nextPtr = None\n",
        "\n",
        "class LinkedList:\n",
        "  def __init__(self):\n",
        "    self.head = None\n",
        "  \n",
        "  ## insert the new node at the end of the linked list\n",
        "  def insertAtEnd(self, new_data):\n",
        "    ## create a new node for the new data\n",
        "    new_node = Node(new_data)\n",
        "\n",
        "    ## check whether linked list is empty or different\n",
        "    if self.head is None:\n",
        "      self.head = new_node\n",
        "      return\n",
        "    \n",
        "    ## insert the data at the end\n",
        "    temp = self.head\n",
        "    while temp.nextPtr:\n",
        "      temp = temp.nextPtr\n",
        "    \n",
        "    temp.nextPtr = new_node\n",
        "\n",
        "  ## delete the node at any given position\n",
        "  def deleteNode(self, pos):\n",
        "    ## write your code\n",
        "    if self.head is None:\n",
        "      return \n",
        "\n",
        "    temp = self.head\n",
        "    for i in range(pos - 1):\n",
        "      temp = temp.nextPtr\n",
        "      if temp is None:\n",
        "        return\n",
        "    \n",
        "    tempPtr = temp.nextPtr.nextPtr\n",
        "    temp.nextPtr = None\n",
        "    temp.nextPtr = tempPtr\n",
        "\n",
        "  ## print the linked list\n",
        "  def printLinkedList(self):\n",
        "    temp = self.head\n",
        "    while temp:\n",
        "      print(str(temp.data)+\" \", end=\" \")\n",
        "      temp = temp.nextPtr\n",
        "  \n",
        "## Driver code\n",
        "llist = LinkedList()\n",
        "\n",
        "llist.insertAtEnd(10)\n",
        "llist.insertAtEnd(20)\n",
        "llist.insertAtEnd(30)\n",
        "llist.insertAtEnd(40)\n",
        "llist.insertAtEnd(50)\n",
        "print(\"Insertion of nodes at the end of the Linked List:\")\n",
        "llist.printLinkedList()\n",
        "print()\n",
        "\n",
        "llist.deleteNode(3)\n",
        "print(\"Deletion of a node in the given Linked List:\")\n",
        "llist.printLinkedList()\n",
        "print()\n",
        "\n",
        "llist.deleteNode(2)\n",
        "llist.printLinkedList()\n",
        "print()\n",
        "\n",
        "llist.deleteNode(1)\n",
        "llist.printLinkedList()\n",
        "print()\n",
        "\n",
        "llist.deleteNode(1)\n",
        "llist.printLinkedList()\n",
        "print()"
      ]
    },
    {
      "cell_type": "markdown",
      "source": [
        "**2. Count of number of nodes in Linked List**"
      ],
      "metadata": {
        "id": "uJGywKI8SMr9"
      }
    },
    {
      "cell_type": "markdown",
      "source": [
        "Time Complexity: O(n)"
      ],
      "metadata": {
        "id": "WDz3pJqkanAp"
      }
    },
    {
      "cell_type": "code",
      "source": [
        "class Node:\n",
        "  def __init__(self, data):\n",
        "    self.data = data\n",
        "    self.nextPtr = None\n",
        "\n",
        "class LinkedList:\n",
        "  def __init__(self):\n",
        "    self.head = None\n",
        "  \n",
        "  ## insert the new node at the end of the linked list\n",
        "  def insertAtEnd(self, new_data):\n",
        "    ## create a new node for the new data\n",
        "    new_node = Node(new_data)\n",
        "\n",
        "    ## check whether linked list is empty or different\n",
        "    if self.head is None:\n",
        "      self.head = new_node\n",
        "      return\n",
        "    \n",
        "    ## insert the data at the end\n",
        "    temp = self.head\n",
        "    while temp.nextPtr:\n",
        "      temp = temp.nextPtr\n",
        "    \n",
        "    temp.nextPtr = new_node\n",
        "\n",
        "  ## count the number of nodes in the Linked List\n",
        "  def countNodes(self):\n",
        "    ## write your own code\n",
        "    temp = self.head\n",
        "    count = 0\n",
        "    while temp:\n",
        "      count += 1\n",
        "      temp = temp.nextPtr\n",
        "    return count\n",
        "\n",
        "  ## print the linked list\n",
        "  def printLinkedList(self):\n",
        "    temp = self.head\n",
        "    while temp:\n",
        "      print(str(temp.data)+\" \", end=\" \")\n",
        "      temp = temp.nextPtr\n",
        "  \n",
        "## Driver code\n",
        "llist = LinkedList()\n",
        "\n",
        "llist.insertAtEnd(10)\n",
        "llist.insertAtEnd(20)\n",
        "llist.insertAtEnd(30)\n",
        "llist.insertAtEnd(40)\n",
        "llist.insertAtEnd(50)\n",
        "print(\"Insertion of nodes at the end of the Linked List:\")\n",
        "llist.printLinkedList()\n",
        "print()\n",
        "\n",
        "result = llist.countNodes()\n",
        "print(\"Count of number of nodes in the given Linked List:\", result)"
      ],
      "metadata": {
        "colab": {
          "base_uri": "https://localhost:8080/"
        },
        "id": "fwXUW1gINXU2",
        "outputId": "19c12a48-53c6-4754-b7bf-35bd9cc2d99f"
      },
      "execution_count": 10,
      "outputs": [
        {
          "output_type": "stream",
          "name": "stdout",
          "text": [
            "Insertion of nodes at the end of the Linked List:\n",
            "10  20  30  40  50  \n",
            "Count of number of nodes in the given Linked List: 5\n"
          ]
        }
      ]
    },
    {
      "cell_type": "markdown",
      "source": [
        "**3. Search a node in a given Linked List**"
      ],
      "metadata": {
        "id": "u0fy3CzFTZ-I"
      }
    },
    {
      "cell_type": "markdown",
      "source": [
        "Time Complexity: O(n)"
      ],
      "metadata": {
        "id": "eIHaUjKTaFgi"
      }
    },
    {
      "cell_type": "code",
      "source": [
        "class Node:\n",
        "  def __init__(self, data):\n",
        "    self.data = data\n",
        "    self.nextPtr = None\n",
        "\n",
        "class LinkedList:\n",
        "  def __init__(self):\n",
        "    self.head = None\n",
        "  \n",
        "  ## insert the new node at the end of the linked list\n",
        "  def insertAtEnd(self, new_data):\n",
        "    ## create a new node for the new data\n",
        "    new_node = Node(new_data)\n",
        "\n",
        "    ## check whether linked list is empty or different\n",
        "    if self.head is None:\n",
        "      self.head = new_node\n",
        "      return\n",
        "    \n",
        "    ## insert the data at the end\n",
        "    temp = self.head\n",
        "    while temp.nextPtr:\n",
        "      temp = temp.nextPtr\n",
        "    \n",
        "    temp.nextPtr = new_node\n",
        "\n",
        "  ## search for a given node inside the Linked List\n",
        "  ## if node is present return True otherwise return False\n",
        "  def searchNode(self, nodeData):\n",
        "    ## write your code here\n",
        "    temp = self.head\n",
        "    while temp:\n",
        "      if temp.data == nodeData:\n",
        "        return True\n",
        "      temp = temp.nextPtr\n",
        "    \n",
        "    return False\n",
        "\n",
        "  ## print the linked list\n",
        "  def printLinkedList(self):\n",
        "    temp = self.head\n",
        "    while temp:\n",
        "      print(str(temp.data)+\" \", end=\" \")\n",
        "      temp = temp.nextPtr\n",
        "  \n",
        "## Driver code\n",
        "llist = LinkedList()\n",
        "\n",
        "llist.insertAtEnd(10)\n",
        "llist.insertAtEnd(20)\n",
        "llist.insertAtEnd(30)\n",
        "llist.insertAtEnd(40)\n",
        "llist.insertAtEnd(50)\n",
        "print(\"Insertion of nodes at the end of the Linked List:\")\n",
        "llist.printLinkedList()\n",
        "print()\n",
        "\n",
        "nodeData = 80\n",
        "if llist.searchNode(nodeData):\n",
        "  print(\"Data is present inside the Linked List\")\n",
        "else:\n",
        "  print(\"No Data present inside the Linked List\")"
      ],
      "metadata": {
        "colab": {
          "base_uri": "https://localhost:8080/"
        },
        "id": "dDdTr56JRPfC",
        "outputId": "fea63176-9baf-4081-c6a4-cef28acb857b"
      },
      "execution_count": 12,
      "outputs": [
        {
          "output_type": "stream",
          "name": "stdout",
          "text": [
            "Insertion of nodes at the end of the Linked List:\n",
            "10  20  30  40  50  \n",
            "No Data present inside the Linked List\n"
          ]
        }
      ]
    },
    {
      "cell_type": "markdown",
      "source": [
        "**4. Merge two sorted linked list and give me the final sorted version of the linked list**"
      ],
      "metadata": {
        "id": "3QLB2ySCVShV"
      }
    },
    {
      "cell_type": "markdown",
      "source": [
        "Time Complexity: O(n)"
      ],
      "metadata": {
        "id": "4cnuXnrXZ8kA"
      }
    },
    {
      "cell_type": "code",
      "source": [
        "class Node:\n",
        "  def __init__(self, data):\n",
        "    self.data = data\n",
        "    self.nextPtr = None\n",
        "\n",
        "class LinkedList:\n",
        "  def __init__(self):\n",
        "    self.head = None\n",
        "  \n",
        "  ## insert the new node at the end of the linked list\n",
        "  def insertAtEnd(self, new_data):\n",
        "    ## create a new node for the new data\n",
        "    new_node = Node(new_data)\n",
        "\n",
        "    ## check whether linked list is empty or different\n",
        "    if self.head is None:\n",
        "      self.head = new_node\n",
        "      return\n",
        "    \n",
        "    ## insert the data at the end\n",
        "    temp = self.head\n",
        "    while temp.nextPtr:\n",
        "      temp = temp.nextPtr\n",
        "    \n",
        "    temp.nextPtr = new_node\n",
        "\n",
        "  ## print the linked list\n",
        "  def printLinkedList(self):\n",
        "    temp = self.head\n",
        "    while temp:\n",
        "      print(str(temp.data)+\" \", end=\" \")\n",
        "      temp = temp.nextPtr\n",
        "\n",
        "\n",
        "## merge two sorted Linked List \n",
        "## output - 10 -> 11 -> 20 -> 22 -> 30 -> 33 -> 40 -> 44 -> 50 -> 55\n",
        "def mergeLists(head1, head2):\n",
        "  ## write your code\n",
        "  temp = None\n",
        "  ## llist1 is empty\n",
        "  if head1 is None:\n",
        "    return head2\n",
        "\n",
        "  ## llist2 is empty\n",
        "  if head2 is None:\n",
        "    return head1\n",
        "  \n",
        "  if head1.data <= head2.data:\n",
        "    temp = head1\n",
        "    temp.nextPtr = mergeLists(head1.nextPtr, head2)\n",
        "  else:\n",
        "    temp = head2\n",
        "    ## recursion \n",
        "    temp.nextPtr = mergeLists(head1, head2.nextPtr)\n",
        "  \n",
        "  return temp\n",
        "  \n",
        "## Driver code\n",
        "llist1 = LinkedList()\n",
        "llist2 = LinkedList()\n",
        "\n",
        "llist1.insertAtEnd(10)\n",
        "llist1.insertAtEnd(20)\n",
        "llist1.insertAtEnd(30)\n",
        "llist1.insertAtEnd(40)\n",
        "llist1.insertAtEnd(50)\n",
        "llist1.insertAtEnd(250)\n",
        "print(\"Linked List 1:\")\n",
        "llist1.printLinkedList()\n",
        "print()\n",
        "\n",
        "llist2.insertAtEnd(11)\n",
        "llist2.insertAtEnd(22)\n",
        "llist2.insertAtEnd(33)\n",
        "llist2.insertAtEnd(44)\n",
        "llist2.insertAtEnd(55)\n",
        "llist2.insertAtEnd(155)\n",
        "print(\"Linked List 2:\")\n",
        "llist2.printLinkedList()\n",
        "print()\n",
        "\n",
        "llist3 = LinkedList()\n",
        "llist3.head = mergeLists(llist1.head, llist2.head)\n",
        "print(\"Merge Linked List:\")\n",
        "llist3.printLinkedList()"
      ],
      "metadata": {
        "colab": {
          "base_uri": "https://localhost:8080/"
        },
        "id": "ITffeQkVVFC_",
        "outputId": "ace383ba-8b1a-40d5-ddcd-8ffeaf57f3fc"
      },
      "execution_count": 18,
      "outputs": [
        {
          "output_type": "stream",
          "name": "stdout",
          "text": [
            "Linked List 1:\n",
            "10  20  30  40  50  250  \n",
            "Linked List 2:\n",
            "11  22  33  44  55  155  \n",
            "Merge Linked List:\n",
            "10  11  20  22  30  33  40  44  50  55  155  250  "
          ]
        }
      ]
    },
    {
      "cell_type": "code",
      "source": [],
      "metadata": {
        "id": "lSGCY8-wV1wV"
      },
      "execution_count": null,
      "outputs": []
    }
  ]
}