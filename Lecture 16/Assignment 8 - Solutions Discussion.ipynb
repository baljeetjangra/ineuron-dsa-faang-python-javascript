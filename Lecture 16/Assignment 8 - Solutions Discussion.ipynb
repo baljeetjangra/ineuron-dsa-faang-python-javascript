{
 "cells": [
  {
   "cell_type": "code",
   "execution_count": 2,
   "id": "a90916b2",
   "metadata": {},
   "outputs": [
    {
     "name": "stdout",
     "output_type": "stream",
     "text": [
      "[0, 1, 1, 2, 2]\n"
     ]
    }
   ],
   "source": [
    "## Problem : Sort Colors\n",
    "## Approach 1: Count Sort TC = O(n), SC = O(1)\n",
    "## Approach 2: Two Pointers Approach TC = O(n), SC = O(1)\n",
    "## Method Definition\n",
    "def sortColors(nums):\n",
    "    p0 = curr = 0\n",
    "    p2 = len(nums) - 1\n",
    "    \n",
    "    while curr <= p2:\n",
    "        if nums[curr] == 0:\n",
    "            nums[p0], nums[curr] = nums[curr], nums[p0]\n",
    "            p0 += 1\n",
    "            curr += 1\n",
    "        \n",
    "        if nums[curr] == 2:\n",
    "            nums[p2], nums[curr] = nums[curr], nums[p2]\n",
    "            p2 -= 1\n",
    "        \n",
    "        else:\n",
    "            curr += 1\n",
    "    return nums\n",
    "\n",
    "## Driver code\n",
    "## nums = [2, 0, 2, 1, 1, 0]\n",
    "nums = [2, 1, 1, 0, 2]\n",
    "result = sortColors(nums)\n",
    "print(result)"
   ]
  },
  {
   "cell_type": "code",
   "execution_count": 3,
   "id": "53f93a17",
   "metadata": {},
   "outputs": [
    {
     "name": "stdout",
     "output_type": "stream",
     "text": [
      "Counter({2: 4, 1: 3})\n",
      "Majority element in an array is: 2\n"
     ]
    }
   ],
   "source": [
    "## Majority Element\n",
    "## Method definition\n",
    "## TC = O(n)\n",
    "## SC = O(n)\n",
    "from collections import Counter\n",
    "def majorityElement(nums):\n",
    "    counts = Counter(nums)\n",
    "    print(counts)\n",
    "    return max(counts.keys(), key = counts.get)\n",
    "\n",
    "## Driver code\n",
    "nums = [2, 2, 1, 1, 1, 2, 2]\n",
    "result = majorityElement(nums)\n",
    "print(\"Majority element in an array is:\",result)"
   ]
  },
  {
   "cell_type": "code",
   "execution_count": null,
   "id": "5f8b7129",
   "metadata": {},
   "outputs": [],
   "source": [
    "## Approach 2 -> Boyer-Moore Voting Algorithms\n",
    "## Time complexity -> O(n)\n",
    "## Space complexity -> O(1)"
   ]
  },
  {
   "cell_type": "code",
   "execution_count": 5,
   "id": "bc7cdeee",
   "metadata": {},
   "outputs": [
    {
     "name": "stdout",
     "output_type": "stream",
     "text": [
      "Peak Element in an array is 2\n"
     ]
    }
   ],
   "source": [
    "## Problem : Finding of peak element in an array\n",
    "## Apporach : Modified Binary Search\n",
    "## TC : O(log n)\n",
    "## Method Definition\n",
    "def findPeakElement(nums):\n",
    "    start, end = 0, len(nums) - 1\n",
    "    \n",
    "    if nums[0] > nums[1]:\n",
    "        return 0\n",
    "    \n",
    "    if nums[-1] > nums[-2]:\n",
    "        return len(nums) - 1\n",
    "    ## Modified Binary Approach\n",
    "    while start < end:\n",
    "        mid = start + (end - start)//2\n",
    "        \n",
    "        if nums[mid] > nums[mid+1]:\n",
    "            end = mid\n",
    "        else:\n",
    "            start = mid + 1\n",
    "    return end\n",
    "\n",
    "## Driver code\n",
    "## nums = [1, 2, 1, 3, 5, 6, 4]\n",
    "nums = [1, 2, 4, 3]\n",
    "result = findPeakElement(nums)\n",
    "print(\"Peak Element in an array is\", result)"
   ]
  },
  {
   "cell_type": "code",
   "execution_count": null,
   "id": "b57e8cd7",
   "metadata": {},
   "outputs": [],
   "source": []
  }
 ],
 "metadata": {
  "kernelspec": {
   "display_name": "Python 3 (ipykernel)",
   "language": "python",
   "name": "python3"
  },
  "language_info": {
   "codemirror_mode": {
    "name": "ipython",
    "version": 3
   },
   "file_extension": ".py",
   "mimetype": "text/x-python",
   "name": "python",
   "nbconvert_exporter": "python",
   "pygments_lexer": "ipython3",
   "version": "3.9.12"
  }
 },
 "nbformat": 4,
 "nbformat_minor": 5
}
