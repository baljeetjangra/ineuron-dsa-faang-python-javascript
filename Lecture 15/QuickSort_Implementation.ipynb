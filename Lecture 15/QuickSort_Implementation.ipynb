{
  "nbformat": 4,
  "nbformat_minor": 0,
  "metadata": {
    "colab": {
      "provenance": []
    },
    "kernelspec": {
      "name": "python3",
      "display_name": "Python 3"
    },
    "language_info": {
      "name": "python"
    }
  },
  "cells": [
    {
      "cell_type": "markdown",
      "source": [
        "**Implementation of QuickSort Algorithm**"
      ],
      "metadata": {
        "id": "68ZjoMP0YYTq"
      }
    },
    {
      "cell_type": "markdown",
      "source": [
        "Time Complexity:\n",
        "\n",
        "1. Best or average case scenario : O(n logn)\n",
        "\n",
        "2. Worst case scenario: O(n^2)"
      ],
      "metadata": {
        "id": "P47t2BeaZibp"
      }
    },
    {
      "cell_type": "markdown",
      "source": [
        "Space Complexity: O(1)"
      ],
      "metadata": {
        "id": "xf8l1jSoZwfQ"
      }
    },
    {
      "cell_type": "code",
      "execution_count": 2,
      "metadata": {
        "colab": {
          "base_uri": "https://localhost:8080/"
        },
        "id": "TLnizeSEOw4h",
        "outputId": "6c3d0bf3-6e0a-4ddb-bd68-216ac5344418"
      },
      "outputs": [
        {
          "output_type": "stream",
          "name": "stdout",
          "text": [
            "[12, 15, 26, 29, 29, 46, 50, 67, 70, 100]\n"
          ]
        }
      ],
      "source": [
        "## Method definition of partition\n",
        "def partition(arr, p, q):\n",
        "  pivot = arr[p]\n",
        "  i = p\n",
        "  for j in range(i+1, q+1):\n",
        "    if arr[j] <= pivot:\n",
        "      i += 1\n",
        "      ## swap between the values of arr[i] and arr[j]\n",
        "      arr[i], arr[j] = arr[j], arr[i]\n",
        "  ## final swap between the value of arr[i] and arr[p]\n",
        "  arr[i], arr[p] = arr[p], arr[i]\n",
        "  return i\n",
        "\n",
        "## Method definition of quickSort\n",
        "def quickSort(arr, p, q):\n",
        "  if p < q:\n",
        "    ## Divide and Conquer Approach\n",
        "    ## 1. Divide\n",
        "    ## function calling for the partition method\n",
        "    mid = partition(arr, p, q)\n",
        "    ## recursive function call for the left subtree\n",
        "    quickSort(arr, p, mid-1)\n",
        "    ## recursive function call for the right subtree\n",
        "    quickSort(arr, mid+1, q)\n",
        "  return arr\n",
        "\n",
        "## Driver code\n",
        "arr = [50, 70, 29, 67, 12, 15, 46, 100, 26, 29]\n",
        "p = 0\n",
        "q = len(arr) - 1\n",
        "## function calling\n",
        "result = quickSort(arr, p, q)\n",
        "print(result)"
      ]
    },
    {
      "cell_type": "markdown",
      "source": [
        "**Implementation of Randomized QuickSort**"
      ],
      "metadata": {
        "id": "nJtDa2TRYdVL"
      }
    },
    {
      "cell_type": "code",
      "source": [
        "import random\n",
        "\n",
        "## Method definition of randomizedPartition\n",
        "def randomizedPartition(arr, p, q):\n",
        "  ## random pivot index\n",
        "  randomPivotIndex = random.randrange(p,q)\n",
        "  ## swap the random index with the first index \n",
        "  arr[p], arr[randomPivotIndex] = arr[randomPivotIndex], arr[p]\n",
        "  return partition(arr, p, q)\n",
        "\n",
        "## Method definition of partition\n",
        "def partition(arr, p, q):\n",
        "  pivot = arr[p]\n",
        "  i = p\n",
        "  for j in range(i+1, q+1):\n",
        "    if arr[j] <= pivot:\n",
        "      i += 1\n",
        "      ## swap between the values of arr[i] and arr[j]\n",
        "      arr[i], arr[j] = arr[j], arr[i]\n",
        "  ## final swap between the value of arr[i] and arr[p]\n",
        "  arr[i], arr[p] = arr[p], arr[i]\n",
        "  return i\n",
        "\n",
        "## Method definition of quickSort\n",
        "def quickSort(arr, p, q):\n",
        "  if p < q:\n",
        "    ## Divide and Conquer Approach\n",
        "    ## 1. Divide\n",
        "    ## function calling for the partition method\n",
        "    mid = randomizedPartition(arr, p, q)\n",
        "    ## recursive function call for the left subtree\n",
        "    quickSort(arr, p, mid-1)\n",
        "    ## recursive function call for the right subtree\n",
        "    quickSort(arr, mid+1, q)\n",
        "  return arr\n",
        "\n",
        "## Driver code\n",
        "arr = [50, 70, 29, 67, 12, 15, 46, 100, 26, 29]\n",
        "p = 0\n",
        "q = len(arr) - 1\n",
        "## function calling\n",
        "result = quickSort(arr, p, q)\n",
        "print(result)"
      ],
      "metadata": {
        "colab": {
          "base_uri": "https://localhost:8080/"
        },
        "id": "Qaf3nmmTQwvy",
        "outputId": "48a060ea-7288-4323-e631-59a9b2f66c4c"
      },
      "execution_count": 3,
      "outputs": [
        {
          "output_type": "stream",
          "name": "stdout",
          "text": [
            "[12, 15, 26, 29, 29, 46, 50, 67, 70, 100]\n"
          ]
        }
      ]
    },
    {
      "cell_type": "code",
      "source": [],
      "metadata": {
        "id": "VH54yvieZNgL"
      },
      "execution_count": null,
      "outputs": []
    }
  ]
}