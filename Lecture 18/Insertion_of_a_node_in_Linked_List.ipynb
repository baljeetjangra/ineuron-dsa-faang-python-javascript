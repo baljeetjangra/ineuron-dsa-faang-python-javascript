{
  "nbformat": 4,
  "nbformat_minor": 0,
  "metadata": {
    "colab": {
      "provenance": []
    },
    "kernelspec": {
      "name": "python3",
      "display_name": "Python 3"
    },
    "language_info": {
      "name": "python"
    }
  },
  "cells": [
    {
      "cell_type": "code",
      "execution_count": 6,
      "metadata": {
        "colab": {
          "base_uri": "https://localhost:8080/"
        },
        "id": "n2Tbst_GWxPP",
        "outputId": "0888062b-a4fe-4baf-cb8d-79b0e4fed300"
      },
      "outputs": [
        {
          "output_type": "stream",
          "name": "stdout",
          "text": [
            "Insertion of nodes at the end of the Linked List:\n",
            "10  20  30  40  50  \n",
            "Insertion of nodes after second node of the linked list:\n",
            "10  20  25  30  40  50  "
          ]
        }
      ],
      "source": [
        "class Node:\n",
        "  def __init__(self, data):\n",
        "    self.data = data\n",
        "    self.nextPtr = None\n",
        "\n",
        "class LinkedList:\n",
        "  def __init__(self):\n",
        "    self.head = None\n",
        "  \n",
        "  '''\n",
        "  ## insert the new node at the beginning of the linked list\n",
        "  def insertAtbeginning(self, new_data):\n",
        "    ## create a new node for the new_data\n",
        "    new_node = Node(new_data)\n",
        "    ## insertion at the beginning of the linked list\n",
        "    new_node.nextPtr = self.head\n",
        "    self.head = new_node\n",
        "  '''\n",
        "\n",
        "  ## insert the new node at the end of the linked list\n",
        "  def insertAtEnd(self, new_data):\n",
        "    ## create a new node for the new data\n",
        "    new_node = Node(new_data)\n",
        "\n",
        "    ## check whether linked list is empty or different\n",
        "    if self.head is None:\n",
        "      self.head = new_node\n",
        "      return\n",
        "    \n",
        "    ## insert the data at the end\n",
        "    temp = self.head\n",
        "    while temp.nextPtr:\n",
        "      temp = temp.nextPtr\n",
        "    \n",
        "    temp.nextPtr = new_node\n",
        "\n",
        "  ## insert the new node after any of the previous node\n",
        "  def insertAfterNode(self, prev_node, new_data):\n",
        "    if prev_node is None:\n",
        "      print(\"Given node must be available in your linked list\")\n",
        "      return\n",
        "    \n",
        "    ##create a new linked list\n",
        "    new_node = Node(new_data)\n",
        "    new_node.nextPtr = prev_node.nextPtr\n",
        "    prev_node.nextPtr = new_node\n",
        "\n",
        "\n",
        "  ## print the linked list\n",
        "  def printLinkedList(self):\n",
        "    temp = self.head\n",
        "    while temp:\n",
        "      print(str(temp.data)+\" \", end=\" \")\n",
        "      temp = temp.nextPtr\n",
        "  \n",
        "## Driver code\n",
        "llist = LinkedList()\n",
        "'''\n",
        "llist.insertAtbeginning(10)\n",
        "llist.insertAtbeginning(20)\n",
        "llist.insertAtbeginning(30)\n",
        "llist.insertAtbeginning(40)\n",
        "llist.insertAtbeginning(50)\n",
        "llist.printLinkedList()\n",
        "'''\n",
        "\n",
        "llist.insertAtEnd(10)\n",
        "llist.insertAtEnd(20)\n",
        "llist.insertAtEnd(30)\n",
        "llist.insertAtEnd(40)\n",
        "llist.insertAtEnd(50)\n",
        "print(\"Insertion of nodes at the end of the Linked List:\")\n",
        "llist.printLinkedList()\n",
        "print()\n",
        "llist.insertAfterNode(llist.head.nextPtr, 25)\n",
        "print(\"Insertion of nodes after second node of the linked list:\")\n",
        "llist.printLinkedList()"
      ]
    },
    {
      "cell_type": "code",
      "source": [],
      "metadata": {
        "id": "oL9wZXDwbYdo"
      },
      "execution_count": null,
      "outputs": []
    }
  ]
}